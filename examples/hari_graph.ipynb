{
 "cells": [
  {
   "cell_type": "markdown",
   "id": "fa15b19e",
   "metadata": {
    "papermill": {
     "duration": 0.004341,
     "end_time": "2024-03-06T00:40:29.349056",
     "exception": false,
     "start_time": "2024-03-06T00:40:29.344715",
     "status": "completed"
    },
    "tags": []
   },
   "source": [
    "Import main classes"
   ]
  },
  {
   "cell_type": "code",
   "execution_count": 1,
   "id": "767a684f",
   "metadata": {
    "execution": {
     "iopub.execute_input": "2024-03-06T00:40:29.355822Z",
     "iopub.status.busy": "2024-03-06T00:40:29.355608Z",
     "iopub.status.idle": "2024-03-06T00:40:30.064681Z",
     "shell.execute_reply": "2024-03-06T00:40:30.064235Z"
    },
    "papermill": {
     "duration": 0.713626,
     "end_time": "2024-03-06T00:40:30.065983",
     "exception": false,
     "start_time": "2024-03-06T00:40:29.352357",
     "status": "completed"
    },
    "tags": []
   },
   "outputs": [],
   "source": [
    "from hari_plotter import HariGraph, HariDynamics"
   ]
  },
  {
   "cell_type": "markdown",
   "id": "a4ecbabd",
   "metadata": {
    "papermill": {
     "duration": 0.001156,
     "end_time": "2024-03-06T00:40:30.068409",
     "exception": false,
     "start_time": "2024-03-06T00:40:30.067253",
     "status": "completed"
    },
    "tags": []
   },
   "source": [
    "Create Graph"
   ]
  },
  {
   "cell_type": "code",
   "execution_count": 2,
   "id": "ca8bd938",
   "metadata": {
    "execution": {
     "iopub.execute_input": "2024-03-06T00:40:30.071326Z",
     "iopub.status.busy": "2024-03-06T00:40:30.071124Z",
     "iopub.status.idle": "2024-03-06T00:40:30.075486Z",
     "shell.execute_reply": "2024-03-06T00:40:30.075141Z"
    },
    "papermill": {
     "duration": 0.006891,
     "end_time": "2024-03-06T00:40:30.076309",
     "exception": false,
     "start_time": "2024-03-06T00:40:30.069418",
     "status": "completed"
    },
    "tags": []
   },
   "outputs": [],
   "source": [
    "H = HariGraph.strongly_connected_components([10, 10], 10, 3)"
   ]
  },
  {
   "cell_type": "markdown",
   "id": "9001cd9b",
   "metadata": {
    "papermill": {
     "duration": 0.001737,
     "end_time": "2024-03-06T00:40:30.079874",
     "exception": false,
     "start_time": "2024-03-06T00:40:30.078137",
     "status": "completed"
    },
    "tags": []
   },
   "source": [
    "Get Graph Info"
   ]
  },
  {
   "cell_type": "code",
   "execution_count": 3,
   "id": "78f85a54",
   "metadata": {
    "execution": {
     "iopub.execute_input": "2024-03-06T00:40:30.084013Z",
     "iopub.status.busy": "2024-03-06T00:40:30.083836Z",
     "iopub.status.idle": "2024-03-06T00:40:30.086446Z",
     "shell.execute_reply": "2024-03-06T00:40:30.086081Z"
    },
    "papermill": {
     "duration": 0.006174,
     "end_time": "2024-03-06T00:40:30.087824",
     "exception": false,
     "start_time": "2024-03-06T00:40:30.081650",
     "status": "completed"
    },
    "tags": []
   },
   "outputs": [
    {
     "name": "stdout",
     "output_type": "stream",
     "text": [
      "H = <HariGraph object at 140325055149104: 20 nodes, 190 edges>\n",
      "H.mean_opinion = 2.9958886037845596\n"
     ]
    }
   ],
   "source": [
    "print(f\"{H = }\")\n",
    "print(f\"{H.mean_opinion = }\")"
   ]
  },
  {
   "cell_type": "markdown",
   "id": "e115ba32",
   "metadata": {
    "papermill": {
     "duration": 0.001772,
     "end_time": "2024-03-06T00:40:30.091535",
     "exception": false,
     "start_time": "2024-03-06T00:40:30.089763",
     "status": "completed"
    },
    "tags": []
   },
   "source": [
    "Get the information about parameters available for gathering "
   ]
  },
  {
   "cell_type": "code",
   "execution_count": 4,
   "id": "03bae45d",
   "metadata": {
    "execution": {
     "iopub.execute_input": "2024-03-06T00:40:30.095945Z",
     "iopub.status.busy": "2024-03-06T00:40:30.095792Z",
     "iopub.status.idle": "2024-03-06T00:40:30.100336Z",
     "shell.execute_reply": "2024-03-06T00:40:30.099989Z"
    },
    "papermill": {
     "duration": 0.008231,
     "end_time": "2024-03-06T00:40:30.101717",
     "exception": false,
     "start_time": "2024-03-06T00:40:30.093486",
     "status": "completed"
    },
    "tags": []
   },
   "outputs": [
    {
     "data": {
      "text/plain": [
       "['Opinion',\n",
       " 'Opinion density',\n",
       " 'Cluster size',\n",
       " 'Importance',\n",
       " 'Neighbor mean opinion',\n",
       " 'Inner opinions',\n",
       " 'Max opinion',\n",
       " 'Min opinion',\n",
       " 'Opinion Standard Deviation',\n",
       " 'Label']"
      ]
     },
     "execution_count": 4,
     "metadata": {},
     "output_type": "execute_result"
    }
   ],
   "source": [
    "H.gatherer.node_parameters"
   ]
  },
  {
   "cell_type": "markdown",
   "id": "7c97f9a7",
   "metadata": {
    "papermill": {
     "duration": 0.001897,
     "end_time": "2024-03-06T00:40:30.105567",
     "exception": false,
     "start_time": "2024-03-06T00:40:30.103670",
     "status": "completed"
    },
    "tags": []
   },
   "source": [
    "Get the node parameters"
   ]
  },
  {
   "cell_type": "code",
   "execution_count": 5,
   "id": "218b3737",
   "metadata": {
    "execution": {
     "iopub.execute_input": "2024-03-06T00:40:30.110102Z",
     "iopub.status.busy": "2024-03-06T00:40:30.109811Z",
     "iopub.status.idle": "2024-03-06T00:40:30.113401Z",
     "shell.execute_reply": "2024-03-06T00:40:30.113051Z"
    },
    "papermill": {
     "duration": 0.007329,
     "end_time": "2024-03-06T00:40:30.114808",
     "exception": false,
     "start_time": "2024-03-06T00:40:30.107479",
     "status": "completed"
    },
    "tags": []
   },
   "outputs": [
    {
     "data": {
      "text/plain": [
       "{'Nodes': [(0,),\n",
       "  (1,),\n",
       "  (2,),\n",
       "  (3,),\n",
       "  (4,),\n",
       "  (5,),\n",
       "  (6,),\n",
       "  (7,),\n",
       "  (8,),\n",
       "  (9,),\n",
       "  (10,),\n",
       "  (11,),\n",
       "  (12,),\n",
       "  (13,),\n",
       "  (14,),\n",
       "  (15,),\n",
       "  (16,),\n",
       "  (17,),\n",
       "  (18,),\n",
       "  (19,)],\n",
       " 'Cluster size': [1, 1, 1, 1, 1, 1, 1, 1, 1, 1, 1, 1, 1, 1, 1, 1, 1, 1, 1, 1],\n",
       " 'Opinion': [1.7952748227467217,\n",
       "  1.852417776716387,\n",
       "  1.8998442955893249,\n",
       "  1.9202027903327863,\n",
       "  1.9524166431794114,\n",
       "  2.0449033191298036,\n",
       "  2.0457970954927687,\n",
       "  2.0913173319281366,\n",
       "  2.1360902253610603,\n",
       "  2.2199334294893096,\n",
       "  3.8305669398580147,\n",
       "  3.910692684963406,\n",
       "  3.9300492515049616,\n",
       "  3.936401835388745,\n",
       "  3.96798322329686,\n",
       "  4.033606889541036,\n",
       "  4.064455434738097,\n",
       "  4.083371208317371,\n",
       "  4.099634411404716,\n",
       "  4.102812466712269]}"
      ]
     },
     "execution_count": 5,
     "metadata": {},
     "output_type": "execute_result"
    }
   ],
   "source": [
    "H.gatherer.gather([\"Cluster size\", \"Opinion\"])"
   ]
  },
  {
   "cell_type": "markdown",
   "id": "a12e3a9d",
   "metadata": {
    "papermill": {
     "duration": 0.002028,
     "end_time": "2024-03-06T00:40:30.118886",
     "exception": false,
     "start_time": "2024-03-06T00:40:30.116858",
     "status": "completed"
    },
    "tags": []
   },
   "source": [
    "Read the graph from Network"
   ]
  },
  {
   "cell_type": "code",
   "execution_count": 6,
   "id": "4ae9a3c2",
   "metadata": {
    "execution": {
     "iopub.execute_input": "2024-03-06T00:40:30.123903Z",
     "iopub.status.busy": "2024-03-06T00:40:30.123615Z",
     "iopub.status.idle": "2024-03-06T00:40:30.126332Z",
     "shell.execute_reply": "2024-03-06T00:40:30.125960Z"
    },
    "papermill": {
     "duration": 0.006548,
     "end_time": "2024-03-06T00:40:30.127612",
     "exception": false,
     "start_time": "2024-03-06T00:40:30.121064",
     "status": "completed"
    },
    "tags": []
   },
   "outputs": [
    {
     "name": "stdout",
     "output_type": "stream",
     "text": [
      "H = <HariGraph object at 140325055482464: 5 nodes, 6 edges>\n"
     ]
    }
   ],
   "source": [
    "H = HariGraph.read_network(\"../tests/network.txt\", \"../tests/opinions_0.txt\")\n",
    "print(f\"{H = }\")"
   ]
  },
  {
   "cell_type": "markdown",
   "id": "afb5eb6f",
   "metadata": {
    "papermill": {
     "duration": 0.002087,
     "end_time": "2024-03-06T00:40:30.131906",
     "exception": false,
     "start_time": "2024-03-06T00:40:30.129819",
     "status": "completed"
    },
    "tags": []
   },
   "source": [
    "Read Dynamics from Network"
   ]
  },
  {
   "cell_type": "code",
   "execution_count": 7,
   "id": "dfc4bbd3",
   "metadata": {
    "execution": {
     "iopub.execute_input": "2024-03-06T00:40:30.137020Z",
     "iopub.status.busy": "2024-03-06T00:40:30.136710Z",
     "iopub.status.idle": "2024-03-06T00:40:30.139350Z",
     "shell.execute_reply": "2024-03-06T00:40:30.138985Z"
    },
    "papermill": {
     "duration": 0.00664,
     "end_time": "2024-03-06T00:40:30.140676",
     "exception": false,
     "start_time": "2024-03-06T00:40:30.134036",
     "status": "completed"
    },
    "tags": []
   },
   "outputs": [
    {
     "name": "stdout",
     "output_type": "stream",
     "text": [
      "HD = <hari_plotter.hari_dynamics.HariDynamics object at 0x7f9ff915c580>\n"
     ]
    }
   ],
   "source": [
    "HD = HariDynamics.read_network(\n",
    "    \"../tests/5_ring/network.txt\",\n",
    "    [f\"../tests/5_ring/opinions_{i}.txt\" for i in range(3)],\n",
    ")\n",
    "print(f\"{HD = }\")"
   ]
  }
 ],
 "metadata": {
  "kernelspec": {
   "display_name": "Python 3",
   "language": "python",
   "name": "python3"
  },
  "language_info": {
   "codemirror_mode": {
    "name": "ipython",
    "version": 3
   },
   "file_extension": ".py",
   "mimetype": "text/x-python",
   "name": "python",
   "nbconvert_exporter": "python",
   "pygments_lexer": "ipython3",
   "version": "3.10.12"
  },
  "papermill": {
   "default_parameters": {},
   "duration": 1.857499,
   "end_time": "2024-03-06T00:40:30.461058",
   "environment_variables": {},
   "exception": null,
   "input_path": "hari_graph.ipynb",
   "output_path": "hari_graph.ipynb",
   "parameters": {},
   "start_time": "2024-03-06T00:40:28.603559",
   "version": "2.5.0"
  }
 },
 "nbformat": 4,
 "nbformat_minor": 5
}