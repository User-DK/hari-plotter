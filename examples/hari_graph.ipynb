{
 "cells": [
  {
   "cell_type": "markdown",
   "id": "fa15b19e",
   "metadata": {
    "papermill": {
     "duration": 0.004372,
     "end_time": "2024-03-05T14:24:17.320574",
     "exception": false,
     "start_time": "2024-03-05T14:24:17.316202",
     "status": "completed"
    },
    "tags": []
   },
   "source": [
    "Import main classes"
   ]
  },
  {
   "cell_type": "code",
   "execution_count": 1,
   "id": "767a684f",
   "metadata": {
    "execution": {
     "iopub.execute_input": "2024-03-05T14:24:17.328010Z",
     "iopub.status.busy": "2024-03-05T14:24:17.327791Z",
     "iopub.status.idle": "2024-03-05T14:24:17.999190Z",
     "shell.execute_reply": "2024-03-05T14:24:17.998746Z"
    },
    "papermill": {
     "duration": 0.676067,
     "end_time": "2024-03-05T14:24:18.000297",
     "exception": false,
     "start_time": "2024-03-05T14:24:17.324230",
     "status": "completed"
    },
    "tags": []
   },
   "outputs": [],
   "source": [
    "from hari_plotter import HariGraph, HariDynamics"
   ]
  },
  {
   "cell_type": "markdown",
   "id": "a4ecbabd",
   "metadata": {
    "papermill": {
     "duration": 0.002471,
     "end_time": "2024-03-05T14:24:18.004078",
     "exception": false,
     "start_time": "2024-03-05T14:24:18.001607",
     "status": "completed"
    },
    "tags": []
   },
   "source": [
    "Create Graph"
   ]
  },
  {
   "cell_type": "code",
   "execution_count": 2,
   "id": "ca8bd938",
   "metadata": {
    "execution": {
     "iopub.execute_input": "2024-03-05T14:24:18.007030Z",
     "iopub.status.busy": "2024-03-05T14:24:18.006837Z",
     "iopub.status.idle": "2024-03-05T14:24:18.011316Z",
     "shell.execute_reply": "2024-03-05T14:24:18.010881Z"
    },
    "papermill": {
     "duration": 0.007068,
     "end_time": "2024-03-05T14:24:18.012261",
     "exception": false,
     "start_time": "2024-03-05T14:24:18.005193",
     "status": "completed"
    },
    "tags": []
   },
   "outputs": [],
   "source": [
    "H = HariGraph.strongly_connected_components([10, 10], 10, 3)"
   ]
  },
  {
   "cell_type": "markdown",
   "id": "9001cd9b",
   "metadata": {
    "papermill": {
     "duration": 0.001782,
     "end_time": "2024-03-05T14:24:18.015901",
     "exception": false,
     "start_time": "2024-03-05T14:24:18.014119",
     "status": "completed"
    },
    "tags": []
   },
   "source": [
    "Get Graph Info"
   ]
  },
  {
   "cell_type": "code",
   "execution_count": 3,
   "id": "78f85a54",
   "metadata": {
    "execution": {
     "iopub.execute_input": "2024-03-05T14:24:18.020689Z",
     "iopub.status.busy": "2024-03-05T14:24:18.020194Z",
     "iopub.status.idle": "2024-03-05T14:24:18.023077Z",
     "shell.execute_reply": "2024-03-05T14:24:18.022731Z"
    },
    "papermill": {
     "duration": 0.006207,
     "end_time": "2024-03-05T14:24:18.023924",
     "exception": false,
     "start_time": "2024-03-05T14:24:18.017717",
     "status": "completed"
    },
    "tags": []
   },
   "outputs": [
    {
     "name": "stdout",
     "output_type": "stream",
     "text": [
      "H = <HariGraph object at 140377312597936: 20 nodes, 190 edges>\n",
      "H.mean_opinion = 2.942354254304152\n"
     ]
    }
   ],
   "source": [
    "print(f\"{H = }\")\n",
    "print(f\"{H.mean_opinion = }\")"
   ]
  },
  {
   "cell_type": "markdown",
   "id": "e115ba32",
   "metadata": {
    "papermill": {
     "duration": 0.001895,
     "end_time": "2024-03-05T14:24:18.027888",
     "exception": false,
     "start_time": "2024-03-05T14:24:18.025993",
     "status": "completed"
    },
    "tags": []
   },
   "source": [
    "Get the information about parameters available for gathering "
   ]
  },
  {
   "cell_type": "code",
   "execution_count": 4,
   "id": "03bae45d",
   "metadata": {
    "execution": {
     "iopub.execute_input": "2024-03-05T14:24:18.033027Z",
     "iopub.status.busy": "2024-03-05T14:24:18.032809Z",
     "iopub.status.idle": "2024-03-05T14:24:18.037594Z",
     "shell.execute_reply": "2024-03-05T14:24:18.037258Z"
    },
    "papermill": {
     "duration": 0.008208,
     "end_time": "2024-03-05T14:24:18.038477",
     "exception": false,
     "start_time": "2024-03-05T14:24:18.030269",
     "status": "completed"
    },
    "tags": []
   },
   "outputs": [
    {
     "data": {
      "text/plain": [
       "['Opinion',\n",
       " 'Opinion density',\n",
       " 'Cluster size',\n",
       " 'Importance',\n",
       " 'Neighbor mean opinion',\n",
       " 'Inner opinions',\n",
       " 'Max opinion',\n",
       " 'Min opinion',\n",
       " 'Opinion Standard Deviation',\n",
       " 'Label']"
      ]
     },
     "execution_count": 4,
     "metadata": {},
     "output_type": "execute_result"
    }
   ],
   "source": [
    "H.gatherer.node_parameters"
   ]
  },
  {
   "cell_type": "markdown",
   "id": "7c97f9a7",
   "metadata": {
    "papermill": {
     "duration": 0.002093,
     "end_time": "2024-03-05T14:24:18.042716",
     "exception": false,
     "start_time": "2024-03-05T14:24:18.040623",
     "status": "completed"
    },
    "tags": []
   },
   "source": [
    "Get the node parameters"
   ]
  },
  {
   "cell_type": "code",
   "execution_count": 5,
   "id": "218b3737",
   "metadata": {
    "execution": {
     "iopub.execute_input": "2024-03-05T14:24:18.047613Z",
     "iopub.status.busy": "2024-03-05T14:24:18.047439Z",
     "iopub.status.idle": "2024-03-05T14:24:18.051437Z",
     "shell.execute_reply": "2024-03-05T14:24:18.051120Z"
    },
    "papermill": {
     "duration": 0.007443,
     "end_time": "2024-03-05T14:24:18.052261",
     "exception": false,
     "start_time": "2024-03-05T14:24:18.044818",
     "status": "completed"
    },
    "tags": []
   },
   "outputs": [
    {
     "data": {
      "text/plain": [
       "{'Nodes': [(0,),\n",
       "  (1,),\n",
       "  (2,),\n",
       "  (3,),\n",
       "  (4,),\n",
       "  (5,),\n",
       "  (6,),\n",
       "  (7,),\n",
       "  (8,),\n",
       "  (9,),\n",
       "  (10,),\n",
       "  (11,),\n",
       "  (12,),\n",
       "  (13,),\n",
       "  (14,),\n",
       "  (15,),\n",
       "  (16,),\n",
       "  (17,),\n",
       "  (18,),\n",
       "  (19,)],\n",
       " 'Cluster size': [1, 1, 1, 1, 1, 1, 1, 1, 1, 1, 1, 1, 1, 1, 1, 1, 1, 1, 1, 1],\n",
       " 'Opinion': [1.7413488416814378,\n",
       "  1.7917240601990128,\n",
       "  1.8009225011764443,\n",
       "  1.821414139635319,\n",
       "  1.9079047201998547,\n",
       "  1.9337108434562775,\n",
       "  1.9591384325392525,\n",
       "  2.015257850280608,\n",
       "  2.0247627215089006,\n",
       "  2.0908864213822156,\n",
       "  3.799828736277964,\n",
       "  3.8548535231420265,\n",
       "  3.8708808416426552,\n",
       "  3.8779882225940328,\n",
       "  4.018031913533279,\n",
       "  4.027468488483046,\n",
       "  4.0371139195105785,\n",
       "  4.076015993544352,\n",
       "  4.098785480561524,\n",
       "  4.099047434734258]}"
      ]
     },
     "execution_count": 5,
     "metadata": {},
     "output_type": "execute_result"
    }
   ],
   "source": [
    "H.gatherer.gather([\"Cluster size\", \"Opinion\"])"
   ]
  },
  {
   "cell_type": "markdown",
   "id": "a12e3a9d",
   "metadata": {
    "papermill": {
     "duration": 0.002139,
     "end_time": "2024-03-05T14:24:18.056616",
     "exception": false,
     "start_time": "2024-03-05T14:24:18.054477",
     "status": "completed"
    },
    "tags": []
   },
   "source": [
    "Read the graph from Network"
   ]
  },
  {
   "cell_type": "code",
   "execution_count": 6,
   "id": "4ae9a3c2",
   "metadata": {
    "execution": {
     "iopub.execute_input": "2024-03-05T14:24:18.061638Z",
     "iopub.status.busy": "2024-03-05T14:24:18.061456Z",
     "iopub.status.idle": "2024-03-05T14:24:18.064029Z",
     "shell.execute_reply": "2024-03-05T14:24:18.063698Z"
    },
    "papermill": {
     "duration": 0.006035,
     "end_time": "2024-03-05T14:24:18.064880",
     "exception": false,
     "start_time": "2024-03-05T14:24:18.058845",
     "status": "completed"
    },
    "tags": []
   },
   "outputs": [
    {
     "name": "stdout",
     "output_type": "stream",
     "text": [
      "H = <HariGraph object at 140377312766336: 5 nodes, 6 edges>\n"
     ]
    }
   ],
   "source": [
    "H = HariGraph.read_network(\"../tests/network.txt\", \"../tests/opinions_0.txt\")\n",
    "print(f\"{H = }\")"
   ]
  },
  {
   "cell_type": "markdown",
   "id": "afb5eb6f",
   "metadata": {
    "papermill": {
     "duration": 0.002172,
     "end_time": "2024-03-05T14:24:18.069301",
     "exception": false,
     "start_time": "2024-03-05T14:24:18.067129",
     "status": "completed"
    },
    "tags": []
   },
   "source": [
    "Read Dynamics from Network"
   ]
  },
  {
   "cell_type": "code",
   "execution_count": 7,
   "id": "dfc4bbd3",
   "metadata": {
    "execution": {
     "iopub.execute_input": "2024-03-05T14:24:18.074395Z",
     "iopub.status.busy": "2024-03-05T14:24:18.074219Z",
     "iopub.status.idle": "2024-03-05T14:24:18.076749Z",
     "shell.execute_reply": "2024-03-05T14:24:18.076410Z"
    },
    "papermill": {
     "duration": 0.006063,
     "end_time": "2024-03-05T14:24:18.077577",
     "exception": false,
     "start_time": "2024-03-05T14:24:18.071514",
     "status": "completed"
    },
    "tags": []
   },
   "outputs": [
    {
     "name": "stdout",
     "output_type": "stream",
     "text": [
      "HD = <hari_plotter.hari_dynamics.HariDynamics object at 0x7fac23dcb850>\n"
     ]
    }
   ],
   "source": [
    "HD = HariDynamics.read_network(\n",
    "    \"../tests/5_ring/network.txt\",\n",
    "    [f\"../tests/5_ring/opinions_{i}.txt\" for i in range(3)],\n",
    ")\n",
    "print(f\"{HD = }\")"
   ]
  }
 ],
 "metadata": {
  "kernelspec": {
   "display_name": "Python 3",
   "language": "python",
   "name": "python3"
  },
  "language_info": {
   "codemirror_mode": {
    "name": "ipython",
    "version": 3
   },
   "file_extension": ".py",
   "mimetype": "text/x-python",
   "name": "python",
   "nbconvert_exporter": "python",
   "pygments_lexer": "ipython3",
   "version": "3.10.12"
  },
  "papermill": {
   "default_parameters": {},
   "duration": 1.720319,
   "end_time": "2024-03-05T14:24:18.395916",
   "environment_variables": {},
   "exception": null,
   "input_path": "hari_graph.ipynb",
   "output_path": "hari_graph.ipynb",
   "parameters": {},
   "start_time": "2024-03-05T14:24:16.675597",
   "version": "2.5.0"
  }
 },
 "nbformat": 4,
 "nbformat_minor": 5
}