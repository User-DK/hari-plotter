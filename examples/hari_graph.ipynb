{
 "cells": [
  {
   "cell_type": "markdown",
   "id": "fa15b19e",
   "metadata": {
    "papermill": {
     "duration": 0.002745,
     "end_time": "2024-03-06T00:47:54.192893",
     "exception": false,
     "start_time": "2024-03-06T00:47:54.190148",
     "status": "completed"
    },
    "tags": []
   },
   "source": [
    "Import main classes"
   ]
  },
  {
   "cell_type": "code",
   "execution_count": 1,
   "id": "767a684f",
   "metadata": {
    "execution": {
     "iopub.execute_input": "2024-03-06T00:47:54.198435Z",
     "iopub.status.busy": "2024-03-06T00:47:54.198227Z",
     "iopub.status.idle": "2024-03-06T00:47:54.960364Z",
     "shell.execute_reply": "2024-03-06T00:47:54.959972Z"
    },
    "papermill": {
     "duration": 0.766498,
     "end_time": "2024-03-06T00:47:54.961875",
     "exception": false,
     "start_time": "2024-03-06T00:47:54.195377",
     "status": "completed"
    },
    "tags": []
   },
   "outputs": [],
   "source": [
    "from hari_plotter import HariGraph, HariDynamics"
   ]
  },
  {
   "cell_type": "markdown",
   "id": "a4ecbabd",
   "metadata": {
    "papermill": {
     "duration": 0.001208,
     "end_time": "2024-03-06T00:47:54.964465",
     "exception": false,
     "start_time": "2024-03-06T00:47:54.963257",
     "status": "completed"
    },
    "tags": []
   },
   "source": [
    "Create Graph"
   ]
  },
  {
   "cell_type": "code",
   "execution_count": 2,
   "id": "ca8bd938",
   "metadata": {
    "execution": {
     "iopub.execute_input": "2024-03-06T00:47:54.967763Z",
     "iopub.status.busy": "2024-03-06T00:47:54.967484Z",
     "iopub.status.idle": "2024-03-06T00:47:54.972402Z",
     "shell.execute_reply": "2024-03-06T00:47:54.971957Z"
    },
    "papermill": {
     "duration": 0.007975,
     "end_time": "2024-03-06T00:47:54.973583",
     "exception": false,
     "start_time": "2024-03-06T00:47:54.965608",
     "status": "completed"
    },
    "tags": []
   },
   "outputs": [],
   "source": [
    "H = HariGraph.strongly_connected_components([10, 10], 10, 3)"
   ]
  },
  {
   "cell_type": "markdown",
   "id": "9001cd9b",
   "metadata": {
    "papermill": {
     "duration": 0.002042,
     "end_time": "2024-03-06T00:47:54.977777",
     "exception": false,
     "start_time": "2024-03-06T00:47:54.975735",
     "status": "completed"
    },
    "tags": []
   },
   "source": [
    "Get Graph Info"
   ]
  },
  {
   "cell_type": "code",
   "execution_count": 3,
   "id": "78f85a54",
   "metadata": {
    "execution": {
     "iopub.execute_input": "2024-03-06T00:47:54.983192Z",
     "iopub.status.busy": "2024-03-06T00:47:54.982789Z",
     "iopub.status.idle": "2024-03-06T00:47:54.987711Z",
     "shell.execute_reply": "2024-03-06T00:47:54.987145Z"
    },
    "papermill": {
     "duration": 0.009324,
     "end_time": "2024-03-06T00:47:54.989150",
     "exception": false,
     "start_time": "2024-03-06T00:47:54.979826",
     "status": "completed"
    },
    "tags": []
   },
   "outputs": [
    {
     "name": "stdout",
     "output_type": "stream",
     "text": [
      "H = <HariGraph object at 139747063219104: 20 nodes, 189 edges>\n",
      "H.mean_opinion = 3.001880962319935\n"
     ]
    }
   ],
   "source": [
    "print(f\"{H = }\")\n",
    "print(f\"{H.mean_opinion = }\")"
   ]
  },
  {
   "cell_type": "markdown",
   "id": "e115ba32",
   "metadata": {
    "papermill": {
     "duration": 0.002297,
     "end_time": "2024-03-06T00:47:54.993967",
     "exception": false,
     "start_time": "2024-03-06T00:47:54.991670",
     "status": "completed"
    },
    "tags": []
   },
   "source": [
    "Get the information about parameters available for gathering "
   ]
  },
  {
   "cell_type": "code",
   "execution_count": 4,
   "id": "03bae45d",
   "metadata": {
    "execution": {
     "iopub.execute_input": "2024-03-06T00:47:54.999788Z",
     "iopub.status.busy": "2024-03-06T00:47:54.999543Z",
     "iopub.status.idle": "2024-03-06T00:47:55.005338Z",
     "shell.execute_reply": "2024-03-06T00:47:55.004837Z"
    },
    "papermill": {
     "duration": 0.011839,
     "end_time": "2024-03-06T00:47:55.008242",
     "exception": false,
     "start_time": "2024-03-06T00:47:54.996403",
     "status": "completed"
    },
    "tags": []
   },
   "outputs": [
    {
     "data": {
      "text/plain": [
       "['Opinion',\n",
       " 'Opinion density',\n",
       " 'Cluster size',\n",
       " 'Importance',\n",
       " 'Neighbor mean opinion',\n",
       " 'Inner opinions',\n",
       " 'Max opinion',\n",
       " 'Min opinion',\n",
       " 'Opinion Standard Deviation',\n",
       " 'Label']"
      ]
     },
     "execution_count": 4,
     "metadata": {},
     "output_type": "execute_result"
    }
   ],
   "source": [
    "H.gatherer.node_parameters"
   ]
  },
  {
   "cell_type": "markdown",
   "id": "7c97f9a7",
   "metadata": {
    "papermill": {
     "duration": 0.002349,
     "end_time": "2024-03-06T00:47:55.013160",
     "exception": false,
     "start_time": "2024-03-06T00:47:55.010811",
     "status": "completed"
    },
    "tags": []
   },
   "source": [
    "Get the node parameters"
   ]
  },
  {
   "cell_type": "code",
   "execution_count": 5,
   "id": "218b3737",
   "metadata": {
    "execution": {
     "iopub.execute_input": "2024-03-06T00:47:55.018899Z",
     "iopub.status.busy": "2024-03-06T00:47:55.018669Z",
     "iopub.status.idle": "2024-03-06T00:47:55.023467Z",
     "shell.execute_reply": "2024-03-06T00:47:55.022975Z"
    },
    "papermill": {
     "duration": 0.010699,
     "end_time": "2024-03-06T00:47:55.026205",
     "exception": false,
     "start_time": "2024-03-06T00:47:55.015506",
     "status": "completed"
    },
    "tags": []
   },
   "outputs": [
    {
     "data": {
      "text/plain": [
       "{'Nodes': [(0,),\n",
       "  (1,),\n",
       "  (2,),\n",
       "  (3,),\n",
       "  (4,),\n",
       "  (5,),\n",
       "  (6,),\n",
       "  (7,),\n",
       "  (8,),\n",
       "  (9,),\n",
       "  (10,),\n",
       "  (11,),\n",
       "  (12,),\n",
       "  (13,),\n",
       "  (14,),\n",
       "  (15,),\n",
       "  (16,),\n",
       "  (17,),\n",
       "  (18,),\n",
       "  (19,)],\n",
       " 'Cluster size': [1, 1, 1, 1, 1, 1, 1, 1, 1, 1, 1, 1, 1, 1, 1, 1, 1, 1, 1, 1],\n",
       " 'Opinion': [1.8745720353539785,\n",
       "  1.89022317415693,\n",
       "  1.918508090267656,\n",
       "  1.928855582502833,\n",
       "  1.9558241284252489,\n",
       "  1.956553328786041,\n",
       "  1.963902224449047,\n",
       "  2.0616317422673247,\n",
       "  2.1192835802092698,\n",
       "  2.12097108997273,\n",
       "  3.810450293399522,\n",
       "  3.8569330545787386,\n",
       "  3.9199323496557583,\n",
       "  4.022500889184172,\n",
       "  4.064055556491908,\n",
       "  4.0897878956806615,\n",
       "  4.098961265870515,\n",
       "  4.10545559754701,\n",
       "  4.115234621863083,\n",
       "  4.163982745736281]}"
      ]
     },
     "execution_count": 5,
     "metadata": {},
     "output_type": "execute_result"
    }
   ],
   "source": [
    "H.gatherer.gather([\"Cluster size\", \"Opinion\"])"
   ]
  },
  {
   "cell_type": "markdown",
   "id": "a12e3a9d",
   "metadata": {
    "papermill": {
     "duration": 0.002418,
     "end_time": "2024-03-06T00:47:55.031239",
     "exception": false,
     "start_time": "2024-03-06T00:47:55.028821",
     "status": "completed"
    },
    "tags": []
   },
   "source": [
    "Read the graph from Network"
   ]
  },
  {
   "cell_type": "code",
   "execution_count": 6,
   "id": "4ae9a3c2",
   "metadata": {
    "execution": {
     "iopub.execute_input": "2024-03-06T00:47:55.037253Z",
     "iopub.status.busy": "2024-03-06T00:47:55.037022Z",
     "iopub.status.idle": "2024-03-06T00:47:55.040426Z",
     "shell.execute_reply": "2024-03-06T00:47:55.039910Z"
    },
    "papermill": {
     "duration": 0.009419,
     "end_time": "2024-03-06T00:47:55.043208",
     "exception": false,
     "start_time": "2024-03-06T00:47:55.033789",
     "status": "completed"
    },
    "tags": []
   },
   "outputs": [
    {
     "name": "stdout",
     "output_type": "stream",
     "text": [
      "H = <HariGraph object at 139744462882992: 5 nodes, 6 edges>\n"
     ]
    }
   ],
   "source": [
    "H = HariGraph.read_network(\"../tests/network.txt\", \"../tests/opinions_0.txt\")\n",
    "print(f\"{H = }\")"
   ]
  },
  {
   "cell_type": "markdown",
   "id": "afb5eb6f",
   "metadata": {
    "papermill": {
     "duration": 0.002453,
     "end_time": "2024-03-06T00:47:55.048403",
     "exception": false,
     "start_time": "2024-03-06T00:47:55.045950",
     "status": "completed"
    },
    "tags": []
   },
   "source": [
    "Read Dynamics from Network"
   ]
  },
  {
   "cell_type": "code",
   "execution_count": 7,
   "id": "dfc4bbd3",
   "metadata": {
    "execution": {
     "iopub.execute_input": "2024-03-06T00:47:55.054536Z",
     "iopub.status.busy": "2024-03-06T00:47:55.054304Z",
     "iopub.status.idle": "2024-03-06T00:47:55.057715Z",
     "shell.execute_reply": "2024-03-06T00:47:55.057223Z"
    },
    "papermill": {
     "duration": 0.00941,
     "end_time": "2024-03-06T00:47:55.060339",
     "exception": false,
     "start_time": "2024-03-06T00:47:55.050929",
     "status": "completed"
    },
    "tags": []
   },
   "outputs": [
    {
     "name": "stdout",
     "output_type": "stream",
     "text": [
      "HD = <hari_plotter.hari_dynamics.HariDynamics object at 0x7f18cb11c4f0>\n"
     ]
    }
   ],
   "source": [
    "HD = HariDynamics.read_network(\n",
    "    \"../tests/5_ring/network.txt\",\n",
    "    [f\"../tests/5_ring/opinions_{i}.txt\" for i in range(3)],\n",
    ")\n",
    "print(f\"{HD = }\")"
   ]
  }
 ],
 "metadata": {
  "kernelspec": {
   "display_name": "Python 3",
   "language": "python",
   "name": "python3"
  },
  "language_info": {
   "codemirror_mode": {
    "name": "ipython",
    "version": 3
   },
   "file_extension": ".py",
   "mimetype": "text/x-python",
   "name": "python",
   "nbconvert_exporter": "python",
   "pygments_lexer": "ipython3",
   "version": "3.10.12"
  },
  "papermill": {
   "default_parameters": {},
   "duration": 1.93861,
   "end_time": "2024-03-06T00:47:55.386426",
   "environment_variables": {},
   "exception": null,
   "input_path": "hari_graph.ipynb",
   "output_path": "hari_graph.ipynb",
   "parameters": {},
   "start_time": "2024-03-06T00:47:53.447816",
   "version": "2.5.0"
  }
 },
 "nbformat": 4,
 "nbformat_minor": 5
}