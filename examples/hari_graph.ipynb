{
 "cells": [
  {
   "cell_type": "markdown",
   "id": "fa15b19e",
   "metadata": {
    "papermill": {
     "duration": 0.001428,
     "end_time": "2024-03-07T00:50:57.498953",
     "exception": false,
     "start_time": "2024-03-07T00:50:57.497525",
     "status": "completed"
    },
    "tags": []
   },
   "source": [
    "Import main classes"
   ]
  },
  {
   "cell_type": "code",
   "execution_count": 1,
   "id": "767a684f",
   "metadata": {
    "execution": {
     "iopub.execute_input": "2024-03-07T00:50:57.503314Z",
     "iopub.status.busy": "2024-03-07T00:50:57.503177Z",
     "iopub.status.idle": "2024-03-07T00:50:58.633820Z",
     "shell.execute_reply": "2024-03-07T00:50:58.633466Z"
    },
    "papermill": {
     "duration": 1.13342,
     "end_time": "2024-03-07T00:50:58.634805",
     "exception": false,
     "start_time": "2024-03-07T00:50:57.501385",
     "status": "completed"
    },
    "tags": []
   },
   "outputs": [],
   "source": [
    "from hari_plotter import HariGraph, HariDynamics"
   ]
  },
  {
   "cell_type": "markdown",
   "id": "a4ecbabd",
   "metadata": {
    "papermill": {
     "duration": 0.001063,
     "end_time": "2024-03-07T00:50:58.637102",
     "exception": false,
     "start_time": "2024-03-07T00:50:58.636039",
     "status": "completed"
    },
    "tags": []
   },
   "source": [
    "Create Graph"
   ]
  },
  {
   "cell_type": "code",
   "execution_count": 2,
   "id": "ca8bd938",
   "metadata": {
    "execution": {
     "iopub.execute_input": "2024-03-07T00:50:58.639916Z",
     "iopub.status.busy": "2024-03-07T00:50:58.639679Z",
     "iopub.status.idle": "2024-03-07T00:50:58.648457Z",
     "shell.execute_reply": "2024-03-07T00:50:58.648077Z"
    },
    "papermill": {
     "duration": 0.011347,
     "end_time": "2024-03-07T00:50:58.649460",
     "exception": false,
     "start_time": "2024-03-07T00:50:58.638113",
     "status": "completed"
    },
    "tags": []
   },
   "outputs": [],
   "source": [
    "H = HariGraph.strongly_connected_components([10, 10], 10, 3)"
   ]
  },
  {
   "cell_type": "markdown",
   "id": "9001cd9b",
   "metadata": {
    "papermill": {
     "duration": 0.001736,
     "end_time": "2024-03-07T00:50:58.653027",
     "exception": false,
     "start_time": "2024-03-07T00:50:58.651291",
     "status": "completed"
    },
    "tags": []
   },
   "source": [
    "Get Graph Info"
   ]
  },
  {
   "cell_type": "code",
   "execution_count": 3,
   "id": "78f85a54",
   "metadata": {
    "execution": {
     "iopub.execute_input": "2024-03-07T00:50:58.657181Z",
     "iopub.status.busy": "2024-03-07T00:50:58.657003Z",
     "iopub.status.idle": "2024-03-07T00:50:58.661018Z",
     "shell.execute_reply": "2024-03-07T00:50:58.660631Z"
    },
    "papermill": {
     "duration": 0.007303,
     "end_time": "2024-03-07T00:50:58.662092",
     "exception": false,
     "start_time": "2024-03-07T00:50:58.654789",
     "status": "completed"
    },
    "tags": []
   },
   "outputs": [
    {
     "name": "stdout",
     "output_type": "stream",
     "text": [
      "H = <HariGraph object at 140528096981872: 20 nodes, 190 edges>\n",
      "H.mean_opinion = 3.001164964715497\n"
     ]
    }
   ],
   "source": [
    "print(f\"{H = }\")\n",
    "print(f\"{H.mean_opinion = }\")"
   ]
  },
  {
   "cell_type": "markdown",
   "id": "e115ba32",
   "metadata": {
    "papermill": {
     "duration": 0.002235,
     "end_time": "2024-03-07T00:50:58.666640",
     "exception": false,
     "start_time": "2024-03-07T00:50:58.664405",
     "status": "completed"
    },
    "tags": []
   },
   "source": [
    "Get the information about parameters available for gathering "
   ]
  },
  {
   "cell_type": "code",
   "execution_count": 4,
   "id": "03bae45d",
   "metadata": {
    "execution": {
     "iopub.execute_input": "2024-03-07T00:50:58.672703Z",
     "iopub.status.busy": "2024-03-07T00:50:58.672425Z",
     "iopub.status.idle": "2024-03-07T00:50:58.678517Z",
     "shell.execute_reply": "2024-03-07T00:50:58.678016Z"
    },
    "papermill": {
     "duration": 0.011604,
     "end_time": "2024-03-07T00:50:58.680890",
     "exception": false,
     "start_time": "2024-03-07T00:50:58.669286",
     "status": "completed"
    },
    "tags": []
   },
   "outputs": [
    {
     "data": {
      "text/plain": [
       "['Opinion',\n",
       " 'Opinion density',\n",
       " 'Cluster size',\n",
       " 'Importance',\n",
       " 'Neighbor mean opinion',\n",
       " 'Inner opinions',\n",
       " 'Max opinion',\n",
       " 'Min opinion',\n",
       " 'Opinion Standard Deviation',\n",
       " 'Label']"
      ]
     },
     "execution_count": 4,
     "metadata": {},
     "output_type": "execute_result"
    }
   ],
   "source": [
    "H.gatherer.node_parameters"
   ]
  },
  {
   "cell_type": "markdown",
   "id": "7c97f9a7",
   "metadata": {
    "papermill": {
     "duration": 0.002774,
     "end_time": "2024-03-07T00:50:58.686494",
     "exception": false,
     "start_time": "2024-03-07T00:50:58.683720",
     "status": "completed"
    },
    "tags": []
   },
   "source": [
    "Get the node parameters"
   ]
  },
  {
   "cell_type": "code",
   "execution_count": 5,
   "id": "218b3737",
   "metadata": {
    "execution": {
     "iopub.execute_input": "2024-03-07T00:50:58.693163Z",
     "iopub.status.busy": "2024-03-07T00:50:58.692851Z",
     "iopub.status.idle": "2024-03-07T00:50:58.697956Z",
     "shell.execute_reply": "2024-03-07T00:50:58.697434Z"
    },
    "papermill": {
     "duration": 0.011038,
     "end_time": "2024-03-07T00:50:58.700365",
     "exception": false,
     "start_time": "2024-03-07T00:50:58.689327",
     "status": "completed"
    },
    "tags": []
   },
   "outputs": [
    {
     "data": {
      "text/plain": [
       "{'Nodes': [(0,),\n",
       "  (1,),\n",
       "  (2,),\n",
       "  (3,),\n",
       "  (4,),\n",
       "  (5,),\n",
       "  (6,),\n",
       "  (7,),\n",
       "  (8,),\n",
       "  (9,),\n",
       "  (10,),\n",
       "  (11,),\n",
       "  (12,),\n",
       "  (13,),\n",
       "  (14,),\n",
       "  (15,),\n",
       "  (16,),\n",
       "  (17,),\n",
       "  (18,),\n",
       "  (19,)],\n",
       " 'Cluster size': [1, 1, 1, 1, 1, 1, 1, 1, 1, 1, 1, 1, 1, 1, 1, 1, 1, 1, 1, 1],\n",
       " 'Opinion': [1.7613609561629566,\n",
       "  1.8566261157429813,\n",
       "  1.865069954876079,\n",
       "  1.8772159093207612,\n",
       "  1.974341338352411,\n",
       "  1.9842916813955351,\n",
       "  2.0214094675619134,\n",
       "  2.037008414721891,\n",
       "  2.0999176375544186,\n",
       "  2.204053850347792,\n",
       "  3.9532652407797864,\n",
       "  3.9639273091822487,\n",
       "  3.9679666245767655,\n",
       "  3.9791947929132254,\n",
       "  3.981974059923666,\n",
       "  3.999721896138998,\n",
       "  4.0546012079776785,\n",
       "  4.087522304398644,\n",
       "  4.132431210044623,\n",
       "  4.2213993223375645]}"
      ]
     },
     "execution_count": 5,
     "metadata": {},
     "output_type": "execute_result"
    }
   ],
   "source": [
    "H.gatherer.gather([\"Cluster size\", \"Opinion\"])"
   ]
  },
  {
   "cell_type": "markdown",
   "id": "a12e3a9d",
   "metadata": {
    "papermill": {
     "duration": 0.002956,
     "end_time": "2024-03-07T00:50:58.706404",
     "exception": false,
     "start_time": "2024-03-07T00:50:58.703448",
     "status": "completed"
    },
    "tags": []
   },
   "source": [
    "Read the graph from Network"
   ]
  },
  {
   "cell_type": "code",
   "execution_count": 6,
   "id": "4ae9a3c2",
   "metadata": {
    "execution": {
     "iopub.execute_input": "2024-03-07T00:50:58.713558Z",
     "iopub.status.busy": "2024-03-07T00:50:58.713265Z",
     "iopub.status.idle": "2024-03-07T00:50:58.717182Z",
     "shell.execute_reply": "2024-03-07T00:50:58.716626Z"
    },
    "papermill": {
     "duration": 0.010396,
     "end_time": "2024-03-07T00:50:58.719945",
     "exception": false,
     "start_time": "2024-03-07T00:50:58.709549",
     "status": "completed"
    },
    "tags": []
   },
   "outputs": [
    {
     "name": "stdout",
     "output_type": "stream",
     "text": [
      "H = <HariGraph object at 140528097330368: 5 nodes, 6 edges>\n"
     ]
    }
   ],
   "source": [
    "H = HariGraph.read_network(\"../tests/network.txt\", \"../tests/opinions_0.txt\")\n",
    "print(f\"{H = }\")"
   ]
  },
  {
   "cell_type": "markdown",
   "id": "afb5eb6f",
   "metadata": {
    "papermill": {
     "duration": 0.003095,
     "end_time": "2024-03-07T00:50:58.726280",
     "exception": false,
     "start_time": "2024-03-07T00:50:58.723185",
     "status": "completed"
    },
    "tags": []
   },
   "source": [
    "Read Dynamics from Network"
   ]
  },
  {
   "cell_type": "code",
   "execution_count": 7,
   "id": "dfc4bbd3",
   "metadata": {
    "execution": {
     "iopub.execute_input": "2024-03-07T00:50:58.733606Z",
     "iopub.status.busy": "2024-03-07T00:50:58.733151Z",
     "iopub.status.idle": "2024-03-07T00:50:58.736932Z",
     "shell.execute_reply": "2024-03-07T00:50:58.736390Z"
    },
    "papermill": {
     "duration": 0.009974,
     "end_time": "2024-03-07T00:50:58.739308",
     "exception": false,
     "start_time": "2024-03-07T00:50:58.729334",
     "status": "completed"
    },
    "tags": []
   },
   "outputs": [
    {
     "name": "stdout",
     "output_type": "stream",
     "text": [
      "HD = <hari_plotter.hari_dynamics.HariDynamics object at 0x7fcf3f529330>\n"
     ]
    }
   ],
   "source": [
    "HD = HariDynamics.read_network(\n",
    "    \"../tests/5_ring/network.txt\",\n",
    "    [f\"../tests/5_ring/opinions_{i}.txt\" for i in range(3)],\n",
    ")\n",
    "print(f\"{HD = }\")"
   ]
  }
 ],
 "metadata": {
  "kernelspec": {
   "display_name": "Python 3",
   "language": "python",
   "name": "python3"
  },
  "language_info": {
   "codemirror_mode": {
    "name": "ipython",
    "version": 3
   },
   "file_extension": ".py",
   "mimetype": "text/x-python",
   "name": "python",
   "nbconvert_exporter": "python",
   "pygments_lexer": "ipython3",
   "version": "3.10.12"
  },
  "papermill": {
   "default_parameters": {},
   "duration": 2.317941,
   "end_time": "2024-03-07T00:50:59.059314",
   "environment_variables": {},
   "exception": null,
   "input_path": "hari_graph.ipynb",
   "output_path": "hari_graph.ipynb",
   "parameters": {},
   "start_time": "2024-03-07T00:50:56.741373",
   "version": "2.5.0"
  }
 },
 "nbformat": 4,
 "nbformat_minor": 5
}