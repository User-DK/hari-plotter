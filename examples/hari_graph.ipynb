{
 "cells": [
  {
   "cell_type": "markdown",
   "id": "fa15b19e",
   "metadata": {
    "papermill": {
     "duration": 0.005364,
     "end_time": "2024-03-05T14:30:59.732337",
     "exception": false,
     "start_time": "2024-03-05T14:30:59.726973",
     "status": "completed"
    },
    "tags": []
   },
   "source": [
    "Import main classes"
   ]
  },
  {
   "cell_type": "code",
   "execution_count": 1,
   "id": "767a684f",
   "metadata": {
    "execution": {
     "iopub.execute_input": "2024-03-05T14:30:59.738260Z",
     "iopub.status.busy": "2024-03-05T14:30:59.738113Z",
     "iopub.status.idle": "2024-03-05T14:31:00.485285Z",
     "shell.execute_reply": "2024-03-05T14:31:00.484842Z"
    },
    "papermill": {
     "duration": 0.750299,
     "end_time": "2024-03-05T14:31:00.486468",
     "exception": false,
     "start_time": "2024-03-05T14:30:59.736169",
     "status": "completed"
    },
    "tags": []
   },
   "outputs": [],
   "source": [
    "from hari_plotter import HariGraph, HariDynamics"
   ]
  },
  {
   "cell_type": "markdown",
   "id": "a4ecbabd",
   "metadata": {
    "papermill": {
     "duration": 0.00114,
     "end_time": "2024-03-05T14:31:00.488924",
     "exception": false,
     "start_time": "2024-03-05T14:31:00.487784",
     "status": "completed"
    },
    "tags": []
   },
   "source": [
    "Create Graph"
   ]
  },
  {
   "cell_type": "code",
   "execution_count": 2,
   "id": "ca8bd938",
   "metadata": {
    "execution": {
     "iopub.execute_input": "2024-03-05T14:31:00.491964Z",
     "iopub.status.busy": "2024-03-05T14:31:00.491697Z",
     "iopub.status.idle": "2024-03-05T14:31:00.496603Z",
     "shell.execute_reply": "2024-03-05T14:31:00.496241Z"
    },
    "papermill": {
     "duration": 0.007587,
     "end_time": "2024-03-05T14:31:00.497593",
     "exception": false,
     "start_time": "2024-03-05T14:31:00.490006",
     "status": "completed"
    },
    "tags": []
   },
   "outputs": [],
   "source": [
    "H = HariGraph.strongly_connected_components([10, 10], 10, 3)"
   ]
  },
  {
   "cell_type": "markdown",
   "id": "9001cd9b",
   "metadata": {
    "papermill": {
     "duration": 0.001876,
     "end_time": "2024-03-05T14:31:00.501329",
     "exception": false,
     "start_time": "2024-03-05T14:31:00.499453",
     "status": "completed"
    },
    "tags": []
   },
   "source": [
    "Get Graph Info"
   ]
  },
  {
   "cell_type": "code",
   "execution_count": 3,
   "id": "78f85a54",
   "metadata": {
    "execution": {
     "iopub.execute_input": "2024-03-05T14:31:00.505739Z",
     "iopub.status.busy": "2024-03-05T14:31:00.505596Z",
     "iopub.status.idle": "2024-03-05T14:31:00.507955Z",
     "shell.execute_reply": "2024-03-05T14:31:00.507626Z"
    },
    "papermill": {
     "duration": 0.006025,
     "end_time": "2024-03-05T14:31:00.509249",
     "exception": false,
     "start_time": "2024-03-05T14:31:00.503224",
     "status": "completed"
    },
    "tags": []
   },
   "outputs": [
    {
     "name": "stdout",
     "output_type": "stream",
     "text": [
      "H = <HariGraph object at 140715906282304: 20 nodes, 189 edges>\n",
      "H.mean_opinion = 2.949774020899985\n"
     ]
    }
   ],
   "source": [
    "print(f\"{H = }\")\n",
    "print(f\"{H.mean_opinion = }\")"
   ]
  },
  {
   "cell_type": "markdown",
   "id": "e115ba32",
   "metadata": {
    "papermill": {
     "duration": 0.001948,
     "end_time": "2024-03-05T14:31:00.513658",
     "exception": false,
     "start_time": "2024-03-05T14:31:00.511710",
     "status": "completed"
    },
    "tags": []
   },
   "source": [
    "Get the information about parameters available for gathering "
   ]
  },
  {
   "cell_type": "code",
   "execution_count": 4,
   "id": "03bae45d",
   "metadata": {
    "execution": {
     "iopub.execute_input": "2024-03-05T14:31:00.518192Z",
     "iopub.status.busy": "2024-03-05T14:31:00.518052Z",
     "iopub.status.idle": "2024-03-05T14:31:00.522577Z",
     "shell.execute_reply": "2024-03-05T14:31:00.522060Z"
    },
    "papermill": {
     "duration": 0.007817,
     "end_time": "2024-03-05T14:31:00.523443",
     "exception": false,
     "start_time": "2024-03-05T14:31:00.515626",
     "status": "completed"
    },
    "tags": []
   },
   "outputs": [
    {
     "data": {
      "text/plain": [
       "['Opinion',\n",
       " 'Opinion density',\n",
       " 'Cluster size',\n",
       " 'Importance',\n",
       " 'Neighbor mean opinion',\n",
       " 'Inner opinions',\n",
       " 'Max opinion',\n",
       " 'Min opinion',\n",
       " 'Opinion Standard Deviation',\n",
       " 'Label']"
      ]
     },
     "execution_count": 4,
     "metadata": {},
     "output_type": "execute_result"
    }
   ],
   "source": [
    "H.gatherer.node_parameters"
   ]
  },
  {
   "cell_type": "markdown",
   "id": "7c97f9a7",
   "metadata": {
    "papermill": {
     "duration": 0.002436,
     "end_time": "2024-03-05T14:31:00.527938",
     "exception": false,
     "start_time": "2024-03-05T14:31:00.525502",
     "status": "completed"
    },
    "tags": []
   },
   "source": [
    "Get the node parameters"
   ]
  },
  {
   "cell_type": "code",
   "execution_count": 5,
   "id": "218b3737",
   "metadata": {
    "execution": {
     "iopub.execute_input": "2024-03-05T14:31:00.532935Z",
     "iopub.status.busy": "2024-03-05T14:31:00.532684Z",
     "iopub.status.idle": "2024-03-05T14:31:00.536157Z",
     "shell.execute_reply": "2024-03-05T14:31:00.535852Z"
    },
    "papermill": {
     "duration": 0.006903,
     "end_time": "2024-03-05T14:31:00.536992",
     "exception": false,
     "start_time": "2024-03-05T14:31:00.530089",
     "status": "completed"
    },
    "tags": []
   },
   "outputs": [
    {
     "data": {
      "text/plain": [
       "{'Nodes': [(0,),\n",
       "  (1,),\n",
       "  (2,),\n",
       "  (3,),\n",
       "  (4,),\n",
       "  (5,),\n",
       "  (6,),\n",
       "  (7,),\n",
       "  (8,),\n",
       "  (9,),\n",
       "  (10,),\n",
       "  (11,),\n",
       "  (12,),\n",
       "  (13,),\n",
       "  (14,),\n",
       "  (15,),\n",
       "  (16,),\n",
       "  (17,),\n",
       "  (18,),\n",
       "  (19,)],\n",
       " 'Cluster size': [1, 1, 1, 1, 1, 1, 1, 1, 1, 1, 1, 1, 1, 1, 1, 1, 1, 1, 1, 1],\n",
       " 'Opinion': [1.8119833835997676,\n",
       "  1.875665235419712,\n",
       "  1.8898455195954438,\n",
       "  1.897059565815334,\n",
       "  1.9008476045680247,\n",
       "  1.9057688189291717,\n",
       "  1.9711859873962407,\n",
       "  1.9881458761380635,\n",
       "  1.988443512227073,\n",
       "  2.025502172747145,\n",
       "  3.8213848516436264,\n",
       "  3.8563342945152552,\n",
       "  3.8895502722184325,\n",
       "  3.9091351821069464,\n",
       "  3.9751586198704234,\n",
       "  3.9787561833006295,\n",
       "  4.004613073432138,\n",
       "  4.072346966085652,\n",
       "  4.077230830532854,\n",
       "  4.156522467857766]}"
      ]
     },
     "execution_count": 5,
     "metadata": {},
     "output_type": "execute_result"
    }
   ],
   "source": [
    "H.gatherer.gather([\"Cluster size\", \"Opinion\"])"
   ]
  },
  {
   "cell_type": "markdown",
   "id": "a12e3a9d",
   "metadata": {
    "papermill": {
     "duration": 0.002182,
     "end_time": "2024-03-05T14:31:00.541500",
     "exception": false,
     "start_time": "2024-03-05T14:31:00.539318",
     "status": "completed"
    },
    "tags": []
   },
   "source": [
    "Read the graph from Network"
   ]
  },
  {
   "cell_type": "code",
   "execution_count": 6,
   "id": "4ae9a3c2",
   "metadata": {
    "execution": {
     "iopub.execute_input": "2024-03-05T14:31:00.547095Z",
     "iopub.status.busy": "2024-03-05T14:31:00.546841Z",
     "iopub.status.idle": "2024-03-05T14:31:00.549348Z",
     "shell.execute_reply": "2024-03-05T14:31:00.549042Z"
    },
    "papermill": {
     "duration": 0.006068,
     "end_time": "2024-03-05T14:31:00.550198",
     "exception": false,
     "start_time": "2024-03-05T14:31:00.544130",
     "status": "completed"
    },
    "tags": []
   },
   "outputs": [
    {
     "name": "stdout",
     "output_type": "stream",
     "text": [
      "H = <HariGraph object at 140715906275248: 5 nodes, 6 edges>\n"
     ]
    }
   ],
   "source": [
    "H = HariGraph.read_network(\"../tests/network.txt\", \"../tests/opinions_0.txt\")\n",
    "print(f\"{H = }\")"
   ]
  },
  {
   "cell_type": "markdown",
   "id": "afb5eb6f",
   "metadata": {
    "papermill": {
     "duration": 0.002242,
     "end_time": "2024-03-05T14:31:00.554724",
     "exception": false,
     "start_time": "2024-03-05T14:31:00.552482",
     "status": "completed"
    },
    "tags": []
   },
   "source": [
    "Read Dynamics from Network"
   ]
  },
  {
   "cell_type": "code",
   "execution_count": 7,
   "id": "dfc4bbd3",
   "metadata": {
    "execution": {
     "iopub.execute_input": "2024-03-05T14:31:00.560458Z",
     "iopub.status.busy": "2024-03-05T14:31:00.560238Z",
     "iopub.status.idle": "2024-03-05T14:31:00.562774Z",
     "shell.execute_reply": "2024-03-05T14:31:00.562416Z"
    },
    "papermill": {
     "duration": 0.007306,
     "end_time": "2024-03-05T14:31:00.564363",
     "exception": false,
     "start_time": "2024-03-05T14:31:00.557057",
     "status": "completed"
    },
    "tags": []
   },
   "outputs": [
    {
     "name": "stdout",
     "output_type": "stream",
     "text": [
      "HD = <hari_plotter.hari_dynamics.HariDynamics object at 0x7ffaf9a11300>\n"
     ]
    }
   ],
   "source": [
    "HD = HariDynamics.read_network(\n",
    "    \"../tests/5_ring/network.txt\",\n",
    "    [f\"../tests/5_ring/opinions_{i}.txt\" for i in range(3)],\n",
    ")\n",
    "print(f\"{HD = }\")"
   ]
  }
 ],
 "metadata": {
  "kernelspec": {
   "display_name": "Python 3",
   "language": "python",
   "name": "python3"
  },
  "language_info": {
   "codemirror_mode": {
    "name": "ipython",
    "version": 3
   },
   "file_extension": ".py",
   "mimetype": "text/x-python",
   "name": "python",
   "nbconvert_exporter": "python",
   "pygments_lexer": "ipython3",
   "version": "3.10.12"
  },
  "papermill": {
   "default_parameters": {},
   "duration": 2.240547,
   "end_time": "2024-03-05T14:31:00.906278",
   "environment_variables": {},
   "exception": null,
   "input_path": "hari_graph.ipynb",
   "output_path": "hari_graph.ipynb",
   "parameters": {},
   "start_time": "2024-03-05T14:30:58.665731",
   "version": "2.5.0"
  }
 },
 "nbformat": 4,
 "nbformat_minor": 5
}