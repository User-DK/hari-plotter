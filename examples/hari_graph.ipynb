{
 "cells": [
  {
   "cell_type": "markdown",
   "id": "fa15b19e",
   "metadata": {
    "papermill": {
     "duration": 0.006069,
     "end_time": "2024-03-06T00:24:11.588908",
     "exception": false,
     "start_time": "2024-03-06T00:24:11.582839",
     "status": "completed"
    },
    "tags": []
   },
   "source": [
    "Import main classes"
   ]
  },
  {
   "cell_type": "code",
   "execution_count": 1,
   "id": "767a684f",
   "metadata": {
    "execution": {
     "iopub.execute_input": "2024-03-06T00:24:11.597518Z",
     "iopub.status.busy": "2024-03-06T00:24:11.597186Z",
     "iopub.status.idle": "2024-03-06T00:24:12.302738Z",
     "shell.execute_reply": "2024-03-06T00:24:12.302289Z"
    },
    "papermill": {
     "duration": 0.7108,
     "end_time": "2024-03-06T00:24:12.303895",
     "exception": false,
     "start_time": "2024-03-06T00:24:11.593095",
     "status": "completed"
    },
    "tags": []
   },
   "outputs": [],
   "source": [
    "from hari_plotter import HariGraph, HariDynamics"
   ]
  },
  {
   "cell_type": "markdown",
   "id": "a4ecbabd",
   "metadata": {
    "papermill": {
     "duration": 0.002504,
     "end_time": "2024-03-06T00:24:12.307634",
     "exception": false,
     "start_time": "2024-03-06T00:24:12.305130",
     "status": "completed"
    },
    "tags": []
   },
   "source": [
    "Create Graph"
   ]
  },
  {
   "cell_type": "code",
   "execution_count": 2,
   "id": "ca8bd938",
   "metadata": {
    "execution": {
     "iopub.execute_input": "2024-03-06T00:24:12.310400Z",
     "iopub.status.busy": "2024-03-06T00:24:12.310200Z",
     "iopub.status.idle": "2024-03-06T00:24:12.314473Z",
     "shell.execute_reply": "2024-03-06T00:24:12.314131Z"
    },
    "papermill": {
     "duration": 0.006703,
     "end_time": "2024-03-06T00:24:12.315294",
     "exception": false,
     "start_time": "2024-03-06T00:24:12.308591",
     "status": "completed"
    },
    "tags": []
   },
   "outputs": [],
   "source": [
    "H = HariGraph.strongly_connected_components([10, 10], 10, 3)"
   ]
  },
  {
   "cell_type": "markdown",
   "id": "9001cd9b",
   "metadata": {
    "papermill": {
     "duration": 0.001713,
     "end_time": "2024-03-06T00:24:12.318813",
     "exception": false,
     "start_time": "2024-03-06T00:24:12.317100",
     "status": "completed"
    },
    "tags": []
   },
   "source": [
    "Get Graph Info"
   ]
  },
  {
   "cell_type": "code",
   "execution_count": 3,
   "id": "78f85a54",
   "metadata": {
    "execution": {
     "iopub.execute_input": "2024-03-06T00:24:12.323029Z",
     "iopub.status.busy": "2024-03-06T00:24:12.322884Z",
     "iopub.status.idle": "2024-03-06T00:24:12.325218Z",
     "shell.execute_reply": "2024-03-06T00:24:12.324886Z"
    },
    "papermill": {
     "duration": 0.005594,
     "end_time": "2024-03-06T00:24:12.326163",
     "exception": false,
     "start_time": "2024-03-06T00:24:12.320569",
     "status": "completed"
    },
    "tags": []
   },
   "outputs": [
    {
     "name": "stdout",
     "output_type": "stream",
     "text": [
      "H = <HariGraph object at 139691435766832: 20 nodes, 190 edges>\n",
      "H.mean_opinion = 2.978643433962525\n"
     ]
    }
   ],
   "source": [
    "print(f\"{H = }\")\n",
    "print(f\"{H.mean_opinion = }\")"
   ]
  },
  {
   "cell_type": "markdown",
   "id": "e115ba32",
   "metadata": {
    "papermill": {
     "duration": 0.001774,
     "end_time": "2024-03-06T00:24:12.329834",
     "exception": false,
     "start_time": "2024-03-06T00:24:12.328060",
     "status": "completed"
    },
    "tags": []
   },
   "source": [
    "Get the information about parameters available for gathering "
   ]
  },
  {
   "cell_type": "code",
   "execution_count": 4,
   "id": "03bae45d",
   "metadata": {
    "execution": {
     "iopub.execute_input": "2024-03-06T00:24:12.334203Z",
     "iopub.status.busy": "2024-03-06T00:24:12.334054Z",
     "iopub.status.idle": "2024-03-06T00:24:12.338316Z",
     "shell.execute_reply": "2024-03-06T00:24:12.337993Z"
    },
    "papermill": {
     "duration": 0.007408,
     "end_time": "2024-03-06T00:24:12.339125",
     "exception": false,
     "start_time": "2024-03-06T00:24:12.331717",
     "status": "completed"
    },
    "tags": []
   },
   "outputs": [
    {
     "data": {
      "text/plain": [
       "['Opinion',\n",
       " 'Opinion density',\n",
       " 'Cluster size',\n",
       " 'Importance',\n",
       " 'Neighbor mean opinion',\n",
       " 'Inner opinions',\n",
       " 'Max opinion',\n",
       " 'Min opinion',\n",
       " 'Opinion Standard Deviation',\n",
       " 'Label']"
      ]
     },
     "execution_count": 4,
     "metadata": {},
     "output_type": "execute_result"
    }
   ],
   "source": [
    "H.gatherer.node_parameters"
   ]
  },
  {
   "cell_type": "markdown",
   "id": "7c97f9a7",
   "metadata": {
    "papermill": {
     "duration": 0.001881,
     "end_time": "2024-03-06T00:24:12.342936",
     "exception": false,
     "start_time": "2024-03-06T00:24:12.341055",
     "status": "completed"
    },
    "tags": []
   },
   "source": [
    "Get the node parameters"
   ]
  },
  {
   "cell_type": "code",
   "execution_count": 5,
   "id": "218b3737",
   "metadata": {
    "execution": {
     "iopub.execute_input": "2024-03-06T00:24:12.347367Z",
     "iopub.status.busy": "2024-03-06T00:24:12.347159Z",
     "iopub.status.idle": "2024-03-06T00:24:12.350812Z",
     "shell.execute_reply": "2024-03-06T00:24:12.350508Z"
    },
    "papermill": {
     "duration": 0.006782,
     "end_time": "2024-03-06T00:24:12.351600",
     "exception": false,
     "start_time": "2024-03-06T00:24:12.344818",
     "status": "completed"
    },
    "tags": []
   },
   "outputs": [
    {
     "data": {
      "text/plain": [
       "{'Nodes': [(0,),\n",
       "  (1,),\n",
       "  (2,),\n",
       "  (3,),\n",
       "  (4,),\n",
       "  (5,),\n",
       "  (6,),\n",
       "  (7,),\n",
       "  (8,),\n",
       "  (9,),\n",
       "  (10,),\n",
       "  (11,),\n",
       "  (12,),\n",
       "  (13,),\n",
       "  (14,),\n",
       "  (15,),\n",
       "  (16,),\n",
       "  (17,),\n",
       "  (18,),\n",
       "  (19,)],\n",
       " 'Cluster size': [1, 1, 1, 1, 1, 1, 1, 1, 1, 1, 1, 1, 1, 1, 1, 1, 1, 1, 1, 1],\n",
       " 'Opinion': [1.7799130971613055,\n",
       "  1.8290908884457762,\n",
       "  1.9321849223403638,\n",
       "  1.957113697118027,\n",
       "  1.9689593855130298,\n",
       "  2.054787729771811,\n",
       "  2.082676416853146,\n",
       "  2.0915337101259968,\n",
       "  2.1140918994075637,\n",
       "  2.13304224025675,\n",
       "  3.8430346403507656,\n",
       "  3.87362440589265,\n",
       "  3.9324787633117304,\n",
       "  3.940248158768956,\n",
       "  3.982010119112034,\n",
       "  3.9829187532291868,\n",
       "  3.9841699929270082,\n",
       "  4.002525747032652,\n",
       "  4.0355010596438925,\n",
       "  4.0529630519878594]}"
      ]
     },
     "execution_count": 5,
     "metadata": {},
     "output_type": "execute_result"
    }
   ],
   "source": [
    "H.gatherer.gather([\"Cluster size\", \"Opinion\"])"
   ]
  },
  {
   "cell_type": "markdown",
   "id": "a12e3a9d",
   "metadata": {
    "papermill": {
     "duration": 0.001918,
     "end_time": "2024-03-06T00:24:12.355766",
     "exception": false,
     "start_time": "2024-03-06T00:24:12.353848",
     "status": "completed"
    },
    "tags": []
   },
   "source": [
    "Read the graph from Network"
   ]
  },
  {
   "cell_type": "code",
   "execution_count": 6,
   "id": "4ae9a3c2",
   "metadata": {
    "execution": {
     "iopub.execute_input": "2024-03-06T00:24:12.360412Z",
     "iopub.status.busy": "2024-03-06T00:24:12.360191Z",
     "iopub.status.idle": "2024-03-06T00:24:12.362547Z",
     "shell.execute_reply": "2024-03-06T00:24:12.362250Z"
    },
    "papermill": {
     "duration": 0.005573,
     "end_time": "2024-03-06T00:24:12.363348",
     "exception": false,
     "start_time": "2024-03-06T00:24:12.357775",
     "status": "completed"
    },
    "tags": []
   },
   "outputs": [
    {
     "name": "stdout",
     "output_type": "stream",
     "text": [
      "H = <HariGraph object at 139691435761264: 5 nodes, 6 edges>\n"
     ]
    }
   ],
   "source": [
    "H = HariGraph.read_network(\"../tests/network.txt\", \"../tests/opinions_0.txt\")\n",
    "print(f\"{H = }\")"
   ]
  },
  {
   "cell_type": "markdown",
   "id": "afb5eb6f",
   "metadata": {
    "papermill": {
     "duration": 0.001977,
     "end_time": "2024-03-06T00:24:12.367381",
     "exception": false,
     "start_time": "2024-03-06T00:24:12.365404",
     "status": "completed"
    },
    "tags": []
   },
   "source": [
    "Read Dynamics from Network"
   ]
  },
  {
   "cell_type": "code",
   "execution_count": 7,
   "id": "dfc4bbd3",
   "metadata": {
    "execution": {
     "iopub.execute_input": "2024-03-06T00:24:12.372437Z",
     "iopub.status.busy": "2024-03-06T00:24:12.372187Z",
     "iopub.status.idle": "2024-03-06T00:24:12.374700Z",
     "shell.execute_reply": "2024-03-06T00:24:12.374399Z"
    },
    "papermill": {
     "duration": 0.00594,
     "end_time": "2024-03-06T00:24:12.375543",
     "exception": false,
     "start_time": "2024-03-06T00:24:12.369603",
     "status": "completed"
    },
    "tags": []
   },
   "outputs": [
    {
     "name": "stdout",
     "output_type": "stream",
     "text": [
      "HD = <hari_plotter.hari_dynamics.HariDynamics object at 0x7f0c726d54b0>\n"
     ]
    }
   ],
   "source": [
    "HD = HariDynamics.read_network(\n",
    "    \"../tests/5_ring/network.txt\",\n",
    "    [f\"../tests/5_ring/opinions_{i}.txt\" for i in range(3)],\n",
    ")\n",
    "print(f\"{HD = }\")"
   ]
  }
 ],
 "metadata": {
  "kernelspec": {
   "display_name": "Python 3",
   "language": "python",
   "name": "python3"
  },
  "language_info": {
   "codemirror_mode": {
    "name": "ipython",
    "version": 3
   },
   "file_extension": ".py",
   "mimetype": "text/x-python",
   "name": "python",
   "nbconvert_exporter": "python",
   "pygments_lexer": "ipython3",
   "version": "3.10.12"
  },
  "papermill": {
   "default_parameters": {},
   "duration": 1.857611,
   "end_time": "2024-03-06T00:24:12.695926",
   "environment_variables": {},
   "exception": null,
   "input_path": "hari_graph.ipynb",
   "output_path": "hari_graph.ipynb",
   "parameters": {},
   "start_time": "2024-03-06T00:24:10.838315",
   "version": "2.5.0"
  }
 },
 "nbformat": 4,
 "nbformat_minor": 5
}