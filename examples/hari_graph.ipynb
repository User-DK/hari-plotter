{
 "cells": [
  {
   "cell_type": "markdown",
   "id": "fa15b19e",
   "metadata": {
    "papermill": {
     "duration": 0.004343,
     "end_time": "2024-03-06T00:56:07.793686",
     "exception": false,
     "start_time": "2024-03-06T00:56:07.789343",
     "status": "completed"
    },
    "tags": []
   },
   "source": [
    "Import main classes"
   ]
  },
  {
   "cell_type": "code",
   "execution_count": 1,
   "id": "767a684f",
   "metadata": {
    "execution": {
     "iopub.execute_input": "2024-03-06T00:56:07.799441Z",
     "iopub.status.busy": "2024-03-06T00:56:07.799219Z",
     "iopub.status.idle": "2024-03-06T00:56:08.516824Z",
     "shell.execute_reply": "2024-03-06T00:56:08.516474Z"
    },
    "papermill": {
     "duration": 0.721795,
     "end_time": "2024-03-06T00:56:08.517861",
     "exception": false,
     "start_time": "2024-03-06T00:56:07.796066",
     "status": "completed"
    },
    "tags": []
   },
   "outputs": [],
   "source": [
    "from hari_plotter import HariGraph, HariDynamics"
   ]
  },
  {
   "cell_type": "markdown",
   "id": "a4ecbabd",
   "metadata": {
    "papermill": {
     "duration": 0.00103,
     "end_time": "2024-03-06T00:56:08.520096",
     "exception": false,
     "start_time": "2024-03-06T00:56:08.519066",
     "status": "completed"
    },
    "tags": []
   },
   "source": [
    "Create Graph"
   ]
  },
  {
   "cell_type": "code",
   "execution_count": 2,
   "id": "ca8bd938",
   "metadata": {
    "execution": {
     "iopub.execute_input": "2024-03-06T00:56:08.523061Z",
     "iopub.status.busy": "2024-03-06T00:56:08.522762Z",
     "iopub.status.idle": "2024-03-06T00:56:08.527125Z",
     "shell.execute_reply": "2024-03-06T00:56:08.526775Z"
    },
    "papermill": {
     "duration": 0.006954,
     "end_time": "2024-03-06T00:56:08.528005",
     "exception": false,
     "start_time": "2024-03-06T00:56:08.521051",
     "status": "completed"
    },
    "tags": []
   },
   "outputs": [],
   "source": [
    "H = HariGraph.strongly_connected_components([10, 10], 10, 3)"
   ]
  },
  {
   "cell_type": "markdown",
   "id": "9001cd9b",
   "metadata": {
    "papermill": {
     "duration": 0.001731,
     "end_time": "2024-03-06T00:56:08.531544",
     "exception": false,
     "start_time": "2024-03-06T00:56:08.529813",
     "status": "completed"
    },
    "tags": []
   },
   "source": [
    "Get Graph Info"
   ]
  },
  {
   "cell_type": "code",
   "execution_count": 3,
   "id": "78f85a54",
   "metadata": {
    "execution": {
     "iopub.execute_input": "2024-03-06T00:56:08.535783Z",
     "iopub.status.busy": "2024-03-06T00:56:08.535527Z",
     "iopub.status.idle": "2024-03-06T00:56:08.538144Z",
     "shell.execute_reply": "2024-03-06T00:56:08.537813Z"
    },
    "papermill": {
     "duration": 0.005841,
     "end_time": "2024-03-06T00:56:08.539149",
     "exception": false,
     "start_time": "2024-03-06T00:56:08.533308",
     "status": "completed"
    },
    "tags": []
   },
   "outputs": [
    {
     "name": "stdout",
     "output_type": "stream",
     "text": [
      "H = <HariGraph object at 139982695698912: 20 nodes, 188 edges>\n",
      "H.mean_opinion = 2.988673674657742\n"
     ]
    }
   ],
   "source": [
    "print(f\"{H = }\")\n",
    "print(f\"{H.mean_opinion = }\")"
   ]
  },
  {
   "cell_type": "markdown",
   "id": "e115ba32",
   "metadata": {
    "papermill": {
     "duration": 0.001957,
     "end_time": "2024-03-06T00:56:08.543217",
     "exception": false,
     "start_time": "2024-03-06T00:56:08.541260",
     "status": "completed"
    },
    "tags": []
   },
   "source": [
    "Get the information about parameters available for gathering "
   ]
  },
  {
   "cell_type": "code",
   "execution_count": 4,
   "id": "03bae45d",
   "metadata": {
    "execution": {
     "iopub.execute_input": "2024-03-06T00:56:08.547872Z",
     "iopub.status.busy": "2024-03-06T00:56:08.547683Z",
     "iopub.status.idle": "2024-03-06T00:56:08.552242Z",
     "shell.execute_reply": "2024-03-06T00:56:08.551921Z"
    },
    "papermill": {
     "duration": 0.010768,
     "end_time": "2024-03-06T00:56:08.556021",
     "exception": false,
     "start_time": "2024-03-06T00:56:08.545253",
     "status": "completed"
    },
    "tags": []
   },
   "outputs": [
    {
     "data": {
      "text/plain": [
       "['Opinion',\n",
       " 'Opinion density',\n",
       " 'Cluster size',\n",
       " 'Importance',\n",
       " 'Neighbor mean opinion',\n",
       " 'Inner opinions',\n",
       " 'Max opinion',\n",
       " 'Min opinion',\n",
       " 'Opinion Standard Deviation',\n",
       " 'Label']"
      ]
     },
     "execution_count": 4,
     "metadata": {},
     "output_type": "execute_result"
    }
   ],
   "source": [
    "H.gatherer.node_parameters"
   ]
  },
  {
   "cell_type": "markdown",
   "id": "7c97f9a7",
   "metadata": {
    "papermill": {
     "duration": 0.002078,
     "end_time": "2024-03-06T00:56:08.560242",
     "exception": false,
     "start_time": "2024-03-06T00:56:08.558164",
     "status": "completed"
    },
    "tags": []
   },
   "source": [
    "Get the node parameters"
   ]
  },
  {
   "cell_type": "code",
   "execution_count": 5,
   "id": "218b3737",
   "metadata": {
    "execution": {
     "iopub.execute_input": "2024-03-06T00:56:08.565079Z",
     "iopub.status.busy": "2024-03-06T00:56:08.564870Z",
     "iopub.status.idle": "2024-03-06T00:56:08.568489Z",
     "shell.execute_reply": "2024-03-06T00:56:08.568178Z"
    },
    "papermill": {
     "duration": 0.015506,
     "end_time": "2024-03-06T00:56:08.577836",
     "exception": false,
     "start_time": "2024-03-06T00:56:08.562330",
     "status": "completed"
    },
    "tags": []
   },
   "outputs": [
    {
     "data": {
      "text/plain": [
       "{'Nodes': [(0,),\n",
       "  (1,),\n",
       "  (2,),\n",
       "  (3,),\n",
       "  (4,),\n",
       "  (5,),\n",
       "  (6,),\n",
       "  (7,),\n",
       "  (8,),\n",
       "  (9,),\n",
       "  (10,),\n",
       "  (11,),\n",
       "  (12,),\n",
       "  (13,),\n",
       "  (14,),\n",
       "  (15,),\n",
       "  (16,),\n",
       "  (17,),\n",
       "  (18,),\n",
       "  (19,)],\n",
       " 'Cluster size': [1, 1, 1, 1, 1, 1, 1, 1, 1, 1, 1, 1, 1, 1, 1, 1, 1, 1, 1, 1],\n",
       " 'Opinion': [1.7674979376514417,\n",
       "  1.9217913416827495,\n",
       "  1.9827834041796493,\n",
       "  2.0262236972149035,\n",
       "  2.0424695068868988,\n",
       "  2.0660487240165506,\n",
       "  2.0812995455777066,\n",
       "  2.0813448276083077,\n",
       "  2.082511757733309,\n",
       "  2.144411983167057,\n",
       "  3.7838067317370117,\n",
       "  3.8696264333683232,\n",
       "  3.876854673160332,\n",
       "  3.9308247548132496,\n",
       "  3.9551607008518324,\n",
       "  3.9613437154463873,\n",
       "  4.002551168006657,\n",
       "  4.00404647761312,\n",
       "  4.082841468731414,\n",
       "  4.11003464370793]}"
      ]
     },
     "execution_count": 5,
     "metadata": {},
     "output_type": "execute_result"
    }
   ],
   "source": [
    "H.gatherer.gather([\"Cluster size\", \"Opinion\"])"
   ]
  },
  {
   "cell_type": "markdown",
   "id": "a12e3a9d",
   "metadata": {
    "papermill": {
     "duration": 0.002116,
     "end_time": "2024-03-06T00:56:08.582134",
     "exception": false,
     "start_time": "2024-03-06T00:56:08.580018",
     "status": "completed"
    },
    "tags": []
   },
   "source": [
    "Read the graph from Network"
   ]
  },
  {
   "cell_type": "code",
   "execution_count": 6,
   "id": "4ae9a3c2",
   "metadata": {
    "execution": {
     "iopub.execute_input": "2024-03-06T00:56:08.597053Z",
     "iopub.status.busy": "2024-03-06T00:56:08.596778Z",
     "iopub.status.idle": "2024-03-06T00:56:08.599408Z",
     "shell.execute_reply": "2024-03-06T00:56:08.599099Z"
    },
    "papermill": {
     "duration": 0.017111,
     "end_time": "2024-03-06T00:56:08.601420",
     "exception": false,
     "start_time": "2024-03-06T00:56:08.584309",
     "status": "completed"
    },
    "tags": []
   },
   "outputs": [
    {
     "name": "stdout",
     "output_type": "stream",
     "text": [
      "H = <HariGraph object at 139980095027088: 5 nodes, 6 edges>\n"
     ]
    }
   ],
   "source": [
    "H = HariGraph.read_network(\"../tests/network.txt\", \"../tests/opinions_0.txt\")\n",
    "print(f\"{H = }\")"
   ]
  },
  {
   "cell_type": "markdown",
   "id": "afb5eb6f",
   "metadata": {
    "papermill": {
     "duration": 0.002207,
     "end_time": "2024-03-06T00:56:08.605939",
     "exception": false,
     "start_time": "2024-03-06T00:56:08.603732",
     "status": "completed"
    },
    "tags": []
   },
   "source": [
    "Read Dynamics from Network"
   ]
  },
  {
   "cell_type": "code",
   "execution_count": 7,
   "id": "dfc4bbd3",
   "metadata": {
    "execution": {
     "iopub.execute_input": "2024-03-06T00:56:08.619988Z",
     "iopub.status.busy": "2024-03-06T00:56:08.619830Z",
     "iopub.status.idle": "2024-03-06T00:56:08.622303Z",
     "shell.execute_reply": "2024-03-06T00:56:08.621965Z"
    },
    "papermill": {
     "duration": 0.015575,
     "end_time": "2024-03-06T00:56:08.623728",
     "exception": false,
     "start_time": "2024-03-06T00:56:08.608153",
     "status": "completed"
    },
    "tags": []
   },
   "outputs": [
    {
     "name": "stdout",
     "output_type": "stream",
     "text": [
      "HD = <hari_plotter.hari_dynamics.HariDynamics object at 0x7f4fa7dd46d0>\n"
     ]
    }
   ],
   "source": [
    "HD = HariDynamics.read_network(\n",
    "    \"../tests/5_ring/network.txt\",\n",
    "    [f\"../tests/5_ring/opinions_{i}.txt\" for i in range(3)],\n",
    ")\n",
    "print(f\"{HD = }\")"
   ]
  }
 ],
 "metadata": {
  "kernelspec": {
   "display_name": "Python 3",
   "language": "python",
   "name": "python3"
  },
  "language_info": {
   "codemirror_mode": {
    "name": "ipython",
    "version": 3
   },
   "file_extension": ".py",
   "mimetype": "text/x-python",
   "name": "python",
   "nbconvert_exporter": "python",
   "pygments_lexer": "ipython3",
   "version": "3.10.12"
  },
  "papermill": {
   "default_parameters": {},
   "duration": 1.901249,
   "end_time": "2024-03-06T00:56:08.944670",
   "environment_variables": {},
   "exception": null,
   "input_path": "hari_graph.ipynb",
   "output_path": "hari_graph.ipynb",
   "parameters": {},
   "start_time": "2024-03-06T00:56:07.043421",
   "version": "2.5.0"
  }
 },
 "nbformat": 4,
 "nbformat_minor": 5
}