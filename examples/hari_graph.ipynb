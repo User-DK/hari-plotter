{
 "cells": [
  {
   "cell_type": "markdown",
   "id": "fa15b19e",
   "metadata": {
    "papermill": {
     "duration": 0.005866,
     "end_time": "2024-03-06T00:21:25.885097",
     "exception": false,
     "start_time": "2024-03-06T00:21:25.879231",
     "status": "completed"
    },
    "tags": []
   },
   "source": [
    "Import main classes"
   ]
  },
  {
   "cell_type": "code",
   "execution_count": 1,
   "id": "767a684f",
   "metadata": {
    "execution": {
     "iopub.execute_input": "2024-03-06T00:21:25.891738Z",
     "iopub.status.busy": "2024-03-06T00:21:25.891570Z",
     "iopub.status.idle": "2024-03-06T00:21:26.590203Z",
     "shell.execute_reply": "2024-03-06T00:21:26.589613Z"
    },
    "papermill": {
     "duration": 0.702883,
     "end_time": "2024-03-06T00:21:26.591414",
     "exception": false,
     "start_time": "2024-03-06T00:21:25.888531",
     "status": "completed"
    },
    "tags": []
   },
   "outputs": [],
   "source": [
    "from hari_plotter import HariGraph, HariDynamics"
   ]
  },
  {
   "cell_type": "markdown",
   "id": "a4ecbabd",
   "metadata": {
    "papermill": {
     "duration": 0.002506,
     "end_time": "2024-03-06T00:21:26.595197",
     "exception": false,
     "start_time": "2024-03-06T00:21:26.592691",
     "status": "completed"
    },
    "tags": []
   },
   "source": [
    "Create Graph"
   ]
  },
  {
   "cell_type": "code",
   "execution_count": 2,
   "id": "ca8bd938",
   "metadata": {
    "execution": {
     "iopub.execute_input": "2024-03-06T00:21:26.598071Z",
     "iopub.status.busy": "2024-03-06T00:21:26.597819Z",
     "iopub.status.idle": "2024-03-06T00:21:26.602328Z",
     "shell.execute_reply": "2024-03-06T00:21:26.601992Z"
    },
    "papermill": {
     "duration": 0.007001,
     "end_time": "2024-03-06T00:21:26.603158",
     "exception": false,
     "start_time": "2024-03-06T00:21:26.596157",
     "status": "completed"
    },
    "tags": []
   },
   "outputs": [],
   "source": [
    "H = HariGraph.strongly_connected_components([10, 10], 10, 3)"
   ]
  },
  {
   "cell_type": "markdown",
   "id": "9001cd9b",
   "metadata": {
    "papermill": {
     "duration": 0.001749,
     "end_time": "2024-03-06T00:21:26.606744",
     "exception": false,
     "start_time": "2024-03-06T00:21:26.604995",
     "status": "completed"
    },
    "tags": []
   },
   "source": [
    "Get Graph Info"
   ]
  },
  {
   "cell_type": "code",
   "execution_count": 3,
   "id": "78f85a54",
   "metadata": {
    "execution": {
     "iopub.execute_input": "2024-03-06T00:21:26.611124Z",
     "iopub.status.busy": "2024-03-06T00:21:26.610790Z",
     "iopub.status.idle": "2024-03-06T00:21:26.613861Z",
     "shell.execute_reply": "2024-03-06T00:21:26.613461Z"
    },
    "papermill": {
     "duration": 0.006273,
     "end_time": "2024-03-06T00:21:26.614828",
     "exception": false,
     "start_time": "2024-03-06T00:21:26.608555",
     "status": "completed"
    },
    "tags": []
   },
   "outputs": [
    {
     "name": "stdout",
     "output_type": "stream",
     "text": [
      "H = <HariGraph object at 140705875424208: 20 nodes, 188 edges>\n",
      "H.mean_opinion = 3.0004251166293363\n"
     ]
    }
   ],
   "source": [
    "print(f\"{H = }\")\n",
    "print(f\"{H.mean_opinion = }\")"
   ]
  },
  {
   "cell_type": "markdown",
   "id": "e115ba32",
   "metadata": {
    "papermill": {
     "duration": 0.00185,
     "end_time": "2024-03-06T00:21:26.618726",
     "exception": false,
     "start_time": "2024-03-06T00:21:26.616876",
     "status": "completed"
    },
    "tags": []
   },
   "source": [
    "Get the information about parameters available for gathering "
   ]
  },
  {
   "cell_type": "code",
   "execution_count": 4,
   "id": "03bae45d",
   "metadata": {
    "execution": {
     "iopub.execute_input": "2024-03-06T00:21:26.623595Z",
     "iopub.status.busy": "2024-03-06T00:21:26.623359Z",
     "iopub.status.idle": "2024-03-06T00:21:26.628186Z",
     "shell.execute_reply": "2024-03-06T00:21:26.627774Z"
    },
    "papermill": {
     "duration": 0.008882,
     "end_time": "2024-03-06T00:21:26.629602",
     "exception": false,
     "start_time": "2024-03-06T00:21:26.620720",
     "status": "completed"
    },
    "tags": []
   },
   "outputs": [
    {
     "data": {
      "text/plain": [
       "['Opinion',\n",
       " 'Opinion density',\n",
       " 'Cluster size',\n",
       " 'Importance',\n",
       " 'Neighbor mean opinion',\n",
       " 'Inner opinions',\n",
       " 'Max opinion',\n",
       " 'Min opinion',\n",
       " 'Opinion Standard Deviation',\n",
       " 'Label']"
      ]
     },
     "execution_count": 4,
     "metadata": {},
     "output_type": "execute_result"
    }
   ],
   "source": [
    "H.gatherer.node_parameters"
   ]
  },
  {
   "cell_type": "markdown",
   "id": "7c97f9a7",
   "metadata": {
    "papermill": {
     "duration": 0.002055,
     "end_time": "2024-03-06T00:21:26.633736",
     "exception": false,
     "start_time": "2024-03-06T00:21:26.631681",
     "status": "completed"
    },
    "tags": []
   },
   "source": [
    "Get the node parameters"
   ]
  },
  {
   "cell_type": "code",
   "execution_count": 5,
   "id": "218b3737",
   "metadata": {
    "execution": {
     "iopub.execute_input": "2024-03-06T00:21:26.641529Z",
     "iopub.status.busy": "2024-03-06T00:21:26.638325Z",
     "iopub.status.idle": "2024-03-06T00:21:26.644965Z",
     "shell.execute_reply": "2024-03-06T00:21:26.644632Z"
    },
    "papermill": {
     "duration": 0.010131,
     "end_time": "2024-03-06T00:21:26.645893",
     "exception": false,
     "start_time": "2024-03-06T00:21:26.635762",
     "status": "completed"
    },
    "tags": []
   },
   "outputs": [
    {
     "data": {
      "text/plain": [
       "{'Nodes': [(0,),\n",
       "  (1,),\n",
       "  (2,),\n",
       "  (3,),\n",
       "  (4,),\n",
       "  (5,),\n",
       "  (6,),\n",
       "  (7,),\n",
       "  (8,),\n",
       "  (9,),\n",
       "  (10,),\n",
       "  (11,),\n",
       "  (12,),\n",
       "  (13,),\n",
       "  (14,),\n",
       "  (15,),\n",
       "  (16,),\n",
       "  (17,),\n",
       "  (18,),\n",
       "  (19,)],\n",
       " 'Cluster size': [1, 1, 1, 1, 1, 1, 1, 1, 1, 1, 1, 1, 1, 1, 1, 1, 1, 1, 1, 1],\n",
       " 'Opinion': [1.7600134345124052,\n",
       "  1.9429081347360242,\n",
       "  1.9472773728517705,\n",
       "  2.027727454275597,\n",
       "  2.0660701637682832,\n",
       "  2.0897468241453567,\n",
       "  2.1017920267013213,\n",
       "  2.1302084570749837,\n",
       "  2.156353819683449,\n",
       "  2.170289063716762,\n",
       "  3.7938080997604606,\n",
       "  3.8588911618482666,\n",
       "  3.8608636617407437,\n",
       "  3.9513381227001196,\n",
       "  3.9724495360034666,\n",
       "  3.9830713474760606,\n",
       "  3.9940284343826993,\n",
       "  4.025404197239076,\n",
       "  4.0401370282689095,\n",
       "  4.136123991700968]}"
      ]
     },
     "execution_count": 5,
     "metadata": {},
     "output_type": "execute_result"
    }
   ],
   "source": [
    "H.gatherer.gather([\"Cluster size\", \"Opinion\"])"
   ]
  },
  {
   "cell_type": "markdown",
   "id": "a12e3a9d",
   "metadata": {
    "papermill": {
     "duration": 0.002143,
     "end_time": "2024-03-06T00:21:26.650056",
     "exception": false,
     "start_time": "2024-03-06T00:21:26.647913",
     "status": "completed"
    },
    "tags": []
   },
   "source": [
    "Read the graph from Network"
   ]
  },
  {
   "cell_type": "code",
   "execution_count": 6,
   "id": "4ae9a3c2",
   "metadata": {
    "execution": {
     "iopub.execute_input": "2024-03-06T00:21:26.657736Z",
     "iopub.status.busy": "2024-03-06T00:21:26.657523Z",
     "iopub.status.idle": "2024-03-06T00:21:26.660367Z",
     "shell.execute_reply": "2024-03-06T00:21:26.660029Z"
    },
    "papermill": {
     "duration": 0.009047,
     "end_time": "2024-03-06T00:21:26.661249",
     "exception": false,
     "start_time": "2024-03-06T00:21:26.652202",
     "status": "completed"
    },
    "tags": []
   },
   "outputs": [
    {
     "name": "stdout",
     "output_type": "stream",
     "text": [
      "H = <HariGraph object at 140705875792448: 5 nodes, 6 edges>\n"
     ]
    }
   ],
   "source": [
    "H = HariGraph.read_network(\"../tests/network.txt\", \"../tests/opinions_0.txt\")\n",
    "print(f\"{H = }\")"
   ]
  },
  {
   "cell_type": "markdown",
   "id": "afb5eb6f",
   "metadata": {
    "papermill": {
     "duration": 0.002352,
     "end_time": "2024-03-06T00:21:26.665983",
     "exception": false,
     "start_time": "2024-03-06T00:21:26.663631",
     "status": "completed"
    },
    "tags": []
   },
   "source": [
    "Read Dynamics from Network"
   ]
  },
  {
   "cell_type": "code",
   "execution_count": 7,
   "id": "dfc4bbd3",
   "metadata": {
    "execution": {
     "iopub.execute_input": "2024-03-06T00:21:26.671570Z",
     "iopub.status.busy": "2024-03-06T00:21:26.671182Z",
     "iopub.status.idle": "2024-03-06T00:21:26.673923Z",
     "shell.execute_reply": "2024-03-06T00:21:26.673592Z"
    },
    "papermill": {
     "duration": 0.006838,
     "end_time": "2024-03-06T00:21:26.675110",
     "exception": false,
     "start_time": "2024-03-06T00:21:26.668272",
     "status": "completed"
    },
    "tags": []
   },
   "outputs": [
    {
     "name": "stdout",
     "output_type": "stream",
     "text": [
      "HD = <hari_plotter.hari_dynamics.HariDynamics object at 0x7ff8a3be9300>\n"
     ]
    }
   ],
   "source": [
    "HD = HariDynamics.read_network(\n",
    "    \"../tests/5_ring/network.txt\",\n",
    "    [f\"../tests/5_ring/opinions_{i}.txt\" for i in range(3)],\n",
    ")\n",
    "print(f\"{HD = }\")"
   ]
  }
 ],
 "metadata": {
  "kernelspec": {
   "display_name": "Python 3",
   "language": "python",
   "name": "python3"
  },
  "language_info": {
   "codemirror_mode": {
    "name": "ipython",
    "version": 3
   },
   "file_extension": ".py",
   "mimetype": "text/x-python",
   "name": "python",
   "nbconvert_exporter": "python",
   "pygments_lexer": "ipython3",
   "version": "3.10.12"
  },
  "papermill": {
   "default_parameters": {},
   "duration": 1.857296,
   "end_time": "2024-03-06T00:21:26.994034",
   "environment_variables": {},
   "exception": null,
   "input_path": "hari_graph.ipynb",
   "output_path": "hari_graph.ipynb",
   "parameters": {},
   "start_time": "2024-03-06T00:21:25.136738",
   "version": "2.5.0"
  }
 },
 "nbformat": 4,
 "nbformat_minor": 5
}