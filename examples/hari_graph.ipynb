{
 "cells": [
  {
   "cell_type": "markdown",
   "id": "fa15b19e",
   "metadata": {
    "papermill": {
     "duration": 0.004829,
     "end_time": "2024-03-05T15:44:50.577942",
     "exception": false,
     "start_time": "2024-03-05T15:44:50.573113",
     "status": "completed"
    },
    "tags": []
   },
   "source": [
    "Import main classes"
   ]
  },
  {
   "cell_type": "code",
   "execution_count": 1,
   "id": "767a684f",
   "metadata": {
    "execution": {
     "iopub.execute_input": "2024-03-05T15:44:50.584927Z",
     "iopub.status.busy": "2024-03-05T15:44:50.584730Z",
     "iopub.status.idle": "2024-03-05T15:44:51.283776Z",
     "shell.execute_reply": "2024-03-05T15:44:51.283329Z"
    },
    "papermill": {
     "duration": 0.703278,
     "end_time": "2024-03-05T15:44:51.284901",
     "exception": false,
     "start_time": "2024-03-05T15:44:50.581623",
     "status": "completed"
    },
    "tags": []
   },
   "outputs": [],
   "source": [
    "from hari_plotter import HariGraph, HariDynamics"
   ]
  },
  {
   "cell_type": "markdown",
   "id": "a4ecbabd",
   "metadata": {
    "papermill": {
     "duration": 0.002392,
     "end_time": "2024-03-05T15:44:51.288592",
     "exception": false,
     "start_time": "2024-03-05T15:44:51.286200",
     "status": "completed"
    },
    "tags": []
   },
   "source": [
    "Create Graph"
   ]
  },
  {
   "cell_type": "code",
   "execution_count": 2,
   "id": "ca8bd938",
   "metadata": {
    "execution": {
     "iopub.execute_input": "2024-03-05T15:44:51.291475Z",
     "iopub.status.busy": "2024-03-05T15:44:51.291247Z",
     "iopub.status.idle": "2024-03-05T15:44:51.296592Z",
     "shell.execute_reply": "2024-03-05T15:44:51.296170Z"
    },
    "papermill": {
     "duration": 0.00797,
     "end_time": "2024-03-05T15:44:51.297536",
     "exception": false,
     "start_time": "2024-03-05T15:44:51.289566",
     "status": "completed"
    },
    "tags": []
   },
   "outputs": [],
   "source": [
    "H = HariGraph.strongly_connected_components([10, 10], 10, 3)"
   ]
  },
  {
   "cell_type": "markdown",
   "id": "9001cd9b",
   "metadata": {
    "papermill": {
     "duration": 0.00175,
     "end_time": "2024-03-05T15:44:51.301142",
     "exception": false,
     "start_time": "2024-03-05T15:44:51.299392",
     "status": "completed"
    },
    "tags": []
   },
   "source": [
    "Get Graph Info"
   ]
  },
  {
   "cell_type": "code",
   "execution_count": 3,
   "id": "78f85a54",
   "metadata": {
    "execution": {
     "iopub.execute_input": "2024-03-05T15:44:51.305318Z",
     "iopub.status.busy": "2024-03-05T15:44:51.305121Z",
     "iopub.status.idle": "2024-03-05T15:44:51.307701Z",
     "shell.execute_reply": "2024-03-05T15:44:51.307319Z"
    },
    "papermill": {
     "duration": 0.006468,
     "end_time": "2024-03-05T15:44:51.309361",
     "exception": false,
     "start_time": "2024-03-05T15:44:51.302893",
     "status": "completed"
    },
    "tags": []
   },
   "outputs": [
    {
     "name": "stdout",
     "output_type": "stream",
     "text": [
      "H = <HariGraph object at 139662653518704: 20 nodes, 190 edges>\n",
      "H.mean_opinion = 3.012548606127281\n"
     ]
    }
   ],
   "source": [
    "print(f\"{H = }\")\n",
    "print(f\"{H.mean_opinion = }\")"
   ]
  },
  {
   "cell_type": "markdown",
   "id": "e115ba32",
   "metadata": {
    "papermill": {
     "duration": 0.001792,
     "end_time": "2024-03-05T15:44:51.313086",
     "exception": false,
     "start_time": "2024-03-05T15:44:51.311294",
     "status": "completed"
    },
    "tags": []
   },
   "source": [
    "Get the information about parameters available for gathering "
   ]
  },
  {
   "cell_type": "code",
   "execution_count": 4,
   "id": "03bae45d",
   "metadata": {
    "execution": {
     "iopub.execute_input": "2024-03-05T15:44:51.317603Z",
     "iopub.status.busy": "2024-03-05T15:44:51.317382Z",
     "iopub.status.idle": "2024-03-05T15:44:51.321946Z",
     "shell.execute_reply": "2024-03-05T15:44:51.321636Z"
    },
    "papermill": {
     "duration": 0.007784,
     "end_time": "2024-03-05T15:44:51.322819",
     "exception": false,
     "start_time": "2024-03-05T15:44:51.315035",
     "status": "completed"
    },
    "tags": []
   },
   "outputs": [
    {
     "data": {
      "text/plain": [
       "['Opinion',\n",
       " 'Opinion density',\n",
       " 'Cluster size',\n",
       " 'Importance',\n",
       " 'Neighbor mean opinion',\n",
       " 'Inner opinions',\n",
       " 'Max opinion',\n",
       " 'Min opinion',\n",
       " 'Opinion Standard Deviation',\n",
       " 'Label']"
      ]
     },
     "execution_count": 4,
     "metadata": {},
     "output_type": "execute_result"
    }
   ],
   "source": [
    "H.gatherer.node_parameters"
   ]
  },
  {
   "cell_type": "markdown",
   "id": "7c97f9a7",
   "metadata": {
    "papermill": {
     "duration": 0.001902,
     "end_time": "2024-03-05T15:44:51.326883",
     "exception": false,
     "start_time": "2024-03-05T15:44:51.324981",
     "status": "completed"
    },
    "tags": []
   },
   "source": [
    "Get the node parameters"
   ]
  },
  {
   "cell_type": "code",
   "execution_count": 5,
   "id": "218b3737",
   "metadata": {
    "execution": {
     "iopub.execute_input": "2024-03-05T15:44:51.331463Z",
     "iopub.status.busy": "2024-03-05T15:44:51.331215Z",
     "iopub.status.idle": "2024-03-05T15:44:51.334876Z",
     "shell.execute_reply": "2024-03-05T15:44:51.334565Z"
    },
    "papermill": {
     "duration": 0.006883,
     "end_time": "2024-03-05T15:44:51.335695",
     "exception": false,
     "start_time": "2024-03-05T15:44:51.328812",
     "status": "completed"
    },
    "tags": []
   },
   "outputs": [
    {
     "data": {
      "text/plain": [
       "{'Nodes': [(0,),\n",
       "  (1,),\n",
       "  (2,),\n",
       "  (3,),\n",
       "  (4,),\n",
       "  (5,),\n",
       "  (6,),\n",
       "  (7,),\n",
       "  (8,),\n",
       "  (9,),\n",
       "  (10,),\n",
       "  (11,),\n",
       "  (12,),\n",
       "  (13,),\n",
       "  (14,),\n",
       "  (15,),\n",
       "  (16,),\n",
       "  (17,),\n",
       "  (18,),\n",
       "  (19,)],\n",
       " 'Cluster size': [1, 1, 1, 1, 1, 1, 1, 1, 1, 1, 1, 1, 1, 1, 1, 1, 1, 1, 1, 1],\n",
       " 'Opinion': [1.876988266199145,\n",
       "  1.9166038040355582,\n",
       "  1.9487203614588524,\n",
       "  1.9520769748036426,\n",
       "  1.9603833619712923,\n",
       "  2.0115340066559764,\n",
       "  2.020296149644942,\n",
       "  2.06109234451028,\n",
       "  2.0776036089264793,\n",
       "  2.0802451527741574,\n",
       "  3.896915585448413,\n",
       "  3.9229002477452477,\n",
       "  3.9865325003638175,\n",
       "  4.005806782341407,\n",
       "  4.0281800025541115,\n",
       "  4.0392736349725125,\n",
       "  4.082238725157529,\n",
       "  4.085464798727945,\n",
       "  4.098148670034954,\n",
       "  4.199967144219357]}"
      ]
     },
     "execution_count": 5,
     "metadata": {},
     "output_type": "execute_result"
    }
   ],
   "source": [
    "H.gatherer.gather([\"Cluster size\", \"Opinion\"])"
   ]
  },
  {
   "cell_type": "markdown",
   "id": "a12e3a9d",
   "metadata": {
    "papermill": {
     "duration": 0.001971,
     "end_time": "2024-03-05T15:44:51.339734",
     "exception": false,
     "start_time": "2024-03-05T15:44:51.337763",
     "status": "completed"
    },
    "tags": []
   },
   "source": [
    "Read the graph from Network"
   ]
  },
  {
   "cell_type": "code",
   "execution_count": 6,
   "id": "4ae9a3c2",
   "metadata": {
    "execution": {
     "iopub.execute_input": "2024-03-05T15:44:51.344969Z",
     "iopub.status.busy": "2024-03-05T15:44:51.344752Z",
     "iopub.status.idle": "2024-03-05T15:44:51.347303Z",
     "shell.execute_reply": "2024-03-05T15:44:51.347001Z"
    },
    "papermill": {
     "duration": 0.006145,
     "end_time": "2024-03-05T15:44:51.348118",
     "exception": false,
     "start_time": "2024-03-05T15:44:51.341973",
     "status": "completed"
    },
    "tags": []
   },
   "outputs": [
    {
     "name": "stdout",
     "output_type": "stream",
     "text": [
      "H = <HariGraph object at 139665253719760: 5 nodes, 6 edges>\n"
     ]
    }
   ],
   "source": [
    "H = HariGraph.read_network(\"../tests/network.txt\", \"../tests/opinions_0.txt\")\n",
    "print(f\"{H = }\")"
   ]
  },
  {
   "cell_type": "markdown",
   "id": "afb5eb6f",
   "metadata": {
    "papermill": {
     "duration": 0.002081,
     "end_time": "2024-03-05T15:44:51.352361",
     "exception": false,
     "start_time": "2024-03-05T15:44:51.350280",
     "status": "completed"
    },
    "tags": []
   },
   "source": [
    "Read Dynamics from Network"
   ]
  },
  {
   "cell_type": "code",
   "execution_count": 7,
   "id": "dfc4bbd3",
   "metadata": {
    "execution": {
     "iopub.execute_input": "2024-03-05T15:44:51.357542Z",
     "iopub.status.busy": "2024-03-05T15:44:51.357324Z",
     "iopub.status.idle": "2024-03-05T15:44:51.360004Z",
     "shell.execute_reply": "2024-03-05T15:44:51.359684Z"
    },
    "papermill": {
     "duration": 0.006376,
     "end_time": "2024-03-05T15:44:51.360829",
     "exception": false,
     "start_time": "2024-03-05T15:44:51.354453",
     "status": "completed"
    },
    "tags": []
   },
   "outputs": [
    {
     "name": "stdout",
     "output_type": "stream",
     "text": [
      "HD = <hari_plotter.hari_dynamics.HariDynamics object at 0x7f05bedf5030>\n"
     ]
    }
   ],
   "source": [
    "HD = HariDynamics.read_network(\n",
    "    \"../tests/5_ring/network.txt\",\n",
    "    [f\"../tests/5_ring/opinions_{i}.txt\" for i in range(3)],\n",
    ")\n",
    "print(f\"{HD = }\")"
   ]
  }
 ],
 "metadata": {
  "kernelspec": {
   "display_name": "Python 3",
   "language": "python",
   "name": "python3"
  },
  "language_info": {
   "codemirror_mode": {
    "name": "ipython",
    "version": 3
   },
   "file_extension": ".py",
   "mimetype": "text/x-python",
   "name": "python",
   "nbconvert_exporter": "python",
   "pygments_lexer": "ipython3",
   "version": "3.10.12"
  },
  "papermill": {
   "default_parameters": {},
   "duration": 1.912938,
   "end_time": "2024-03-05T15:44:51.682500",
   "environment_variables": {},
   "exception": null,
   "input_path": "hari_graph.ipynb",
   "output_path": "hari_graph.ipynb",
   "parameters": {},
   "start_time": "2024-03-05T15:44:49.769562",
   "version": "2.5.0"
  }
 },
 "nbformat": 4,
 "nbformat_minor": 5
}