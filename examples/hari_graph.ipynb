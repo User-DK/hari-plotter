{
 "cells": [
  {
   "cell_type": "markdown",
   "id": "fa15b19e",
   "metadata": {
    "papermill": {
     "duration": 0.004509,
     "end_time": "2024-03-05T17:24:48.607786",
     "exception": false,
     "start_time": "2024-03-05T17:24:48.603277",
     "status": "completed"
    },
    "tags": []
   },
   "source": [
    "Import main classes"
   ]
  },
  {
   "cell_type": "code",
   "execution_count": 1,
   "id": "767a684f",
   "metadata": {
    "execution": {
     "iopub.execute_input": "2024-03-05T17:24:48.611625Z",
     "iopub.status.busy": "2024-03-05T17:24:48.611482Z",
     "iopub.status.idle": "2024-03-05T17:24:49.318304Z",
     "shell.execute_reply": "2024-03-05T17:24:49.317753Z"
    },
    "papermill": {
     "duration": 0.709742,
     "end_time": "2024-03-05T17:24:49.319588",
     "exception": false,
     "start_time": "2024-03-05T17:24:48.609846",
     "status": "completed"
    },
    "tags": []
   },
   "outputs": [],
   "source": [
    "from hari_plotter import HariGraph, HariDynamics"
   ]
  },
  {
   "cell_type": "markdown",
   "id": "a4ecbabd",
   "metadata": {
    "papermill": {
     "duration": 0.00242,
     "end_time": "2024-03-05T17:24:49.323230",
     "exception": false,
     "start_time": "2024-03-05T17:24:49.320810",
     "status": "completed"
    },
    "tags": []
   },
   "source": [
    "Create Graph"
   ]
  },
  {
   "cell_type": "code",
   "execution_count": 2,
   "id": "ca8bd938",
   "metadata": {
    "execution": {
     "iopub.execute_input": "2024-03-05T17:24:49.326025Z",
     "iopub.status.busy": "2024-03-05T17:24:49.325829Z",
     "iopub.status.idle": "2024-03-05T17:24:49.330031Z",
     "shell.execute_reply": "2024-03-05T17:24:49.329693Z"
    },
    "papermill": {
     "duration": 0.006638,
     "end_time": "2024-03-05T17:24:49.330864",
     "exception": false,
     "start_time": "2024-03-05T17:24:49.324226",
     "status": "completed"
    },
    "tags": []
   },
   "outputs": [],
   "source": [
    "H = HariGraph.strongly_connected_components([10, 10], 10, 3)"
   ]
  },
  {
   "cell_type": "markdown",
   "id": "9001cd9b",
   "metadata": {
    "papermill": {
     "duration": 0.001714,
     "end_time": "2024-03-05T17:24:49.334392",
     "exception": false,
     "start_time": "2024-03-05T17:24:49.332678",
     "status": "completed"
    },
    "tags": []
   },
   "source": [
    "Get Graph Info"
   ]
  },
  {
   "cell_type": "code",
   "execution_count": 3,
   "id": "78f85a54",
   "metadata": {
    "execution": {
     "iopub.execute_input": "2024-03-05T17:24:49.338510Z",
     "iopub.status.busy": "2024-03-05T17:24:49.338368Z",
     "iopub.status.idle": "2024-03-05T17:24:49.340928Z",
     "shell.execute_reply": "2024-03-05T17:24:49.340608Z"
    },
    "papermill": {
     "duration": 0.005731,
     "end_time": "2024-03-05T17:24:49.341883",
     "exception": false,
     "start_time": "2024-03-05T17:24:49.336152",
     "status": "completed"
    },
    "tags": []
   },
   "outputs": [
    {
     "name": "stdout",
     "output_type": "stream",
     "text": [
      "H = <HariGraph object at 140416418624368: 20 nodes, 190 edges>\n",
      "H.mean_opinion = 2.998971940800529\n"
     ]
    }
   ],
   "source": [
    "print(f\"{H = }\")\n",
    "print(f\"{H.mean_opinion = }\")"
   ]
  },
  {
   "cell_type": "markdown",
   "id": "e115ba32",
   "metadata": {
    "papermill": {
     "duration": 0.001926,
     "end_time": "2024-03-05T17:24:49.345837",
     "exception": false,
     "start_time": "2024-03-05T17:24:49.343911",
     "status": "completed"
    },
    "tags": []
   },
   "source": [
    "Get the information about parameters available for gathering "
   ]
  },
  {
   "cell_type": "code",
   "execution_count": 4,
   "id": "03bae45d",
   "metadata": {
    "execution": {
     "iopub.execute_input": "2024-03-05T17:24:49.350456Z",
     "iopub.status.busy": "2024-03-05T17:24:49.350280Z",
     "iopub.status.idle": "2024-03-05T17:24:49.354713Z",
     "shell.execute_reply": "2024-03-05T17:24:49.354397Z"
    },
    "papermill": {
     "duration": 0.007612,
     "end_time": "2024-03-05T17:24:49.355511",
     "exception": false,
     "start_time": "2024-03-05T17:24:49.347899",
     "status": "completed"
    },
    "tags": []
   },
   "outputs": [
    {
     "data": {
      "text/plain": [
       "['Opinion',\n",
       " 'Opinion density',\n",
       " 'Cluster size',\n",
       " 'Importance',\n",
       " 'Neighbor mean opinion',\n",
       " 'Inner opinions',\n",
       " 'Max opinion',\n",
       " 'Min opinion',\n",
       " 'Opinion Standard Deviation',\n",
       " 'Label']"
      ]
     },
     "execution_count": 4,
     "metadata": {},
     "output_type": "execute_result"
    }
   ],
   "source": [
    "H.gatherer.node_parameters"
   ]
  },
  {
   "cell_type": "markdown",
   "id": "7c97f9a7",
   "metadata": {
    "papermill": {
     "duration": 0.002055,
     "end_time": "2024-03-05T17:24:49.359697",
     "exception": false,
     "start_time": "2024-03-05T17:24:49.357642",
     "status": "completed"
    },
    "tags": []
   },
   "source": [
    "Get the node parameters"
   ]
  },
  {
   "cell_type": "code",
   "execution_count": 5,
   "id": "218b3737",
   "metadata": {
    "execution": {
     "iopub.execute_input": "2024-03-05T17:24:49.364426Z",
     "iopub.status.busy": "2024-03-05T17:24:49.364292Z",
     "iopub.status.idle": "2024-03-05T17:24:49.367719Z",
     "shell.execute_reply": "2024-03-05T17:24:49.367414Z"
    },
    "papermill": {
     "duration": 0.006711,
     "end_time": "2024-03-05T17:24:49.368514",
     "exception": false,
     "start_time": "2024-03-05T17:24:49.361803",
     "status": "completed"
    },
    "tags": []
   },
   "outputs": [
    {
     "data": {
      "text/plain": [
       "{'Nodes': [(0,),\n",
       "  (1,),\n",
       "  (2,),\n",
       "  (3,),\n",
       "  (4,),\n",
       "  (5,),\n",
       "  (6,),\n",
       "  (7,),\n",
       "  (8,),\n",
       "  (9,),\n",
       "  (10,),\n",
       "  (11,),\n",
       "  (12,),\n",
       "  (13,),\n",
       "  (14,),\n",
       "  (15,),\n",
       "  (16,),\n",
       "  (17,),\n",
       "  (18,),\n",
       "  (19,)],\n",
       " 'Cluster size': [1, 1, 1, 1, 1, 1, 1, 1, 1, 1, 1, 1, 1, 1, 1, 1, 1, 1, 1, 1],\n",
       " 'Opinion': [1.9263188806869667,\n",
       "  1.929021870603581,\n",
       "  1.94968823905604,\n",
       "  1.986769543611163,\n",
       "  2.0131438026875688,\n",
       "  2.015181617271683,\n",
       "  2.0248534368718683,\n",
       "  2.1021349079891523,\n",
       "  2.107432784660995,\n",
       "  2.2546969286687886,\n",
       "  3.869458092424343,\n",
       "  3.8739297400149413,\n",
       "  3.8923411731391058,\n",
       "  3.9012351805611876,\n",
       "  3.9655185954198586,\n",
       "  3.976750544937357,\n",
       "  4.005517949501041,\n",
       "  4.041628300514463,\n",
       "  4.066555295845052,\n",
       "  4.077261931545433]}"
      ]
     },
     "execution_count": 5,
     "metadata": {},
     "output_type": "execute_result"
    }
   ],
   "source": [
    "H.gatherer.gather([\"Cluster size\", \"Opinion\"])"
   ]
  },
  {
   "cell_type": "markdown",
   "id": "a12e3a9d",
   "metadata": {
    "papermill": {
     "duration": 0.002472,
     "end_time": "2024-03-05T17:24:49.373254",
     "exception": false,
     "start_time": "2024-03-05T17:24:49.370782",
     "status": "completed"
    },
    "tags": []
   },
   "source": [
    "Read the graph from Network"
   ]
  },
  {
   "cell_type": "code",
   "execution_count": 6,
   "id": "4ae9a3c2",
   "metadata": {
    "execution": {
     "iopub.execute_input": "2024-03-05T17:24:49.378363Z",
     "iopub.status.busy": "2024-03-05T17:24:49.378230Z",
     "iopub.status.idle": "2024-03-05T17:24:49.380740Z",
     "shell.execute_reply": "2024-03-05T17:24:49.380408Z"
    },
    "papermill": {
     "duration": 0.006097,
     "end_time": "2024-03-05T17:24:49.381636",
     "exception": false,
     "start_time": "2024-03-05T17:24:49.375539",
     "status": "completed"
    },
    "tags": []
   },
   "outputs": [
    {
     "name": "stdout",
     "output_type": "stream",
     "text": [
      "H = <HariGraph object at 140416418990208: 5 nodes, 6 edges>\n"
     ]
    }
   ],
   "source": [
    "H = HariGraph.read_network(\"../tests/network.txt\", \"../tests/opinions_0.txt\")\n",
    "print(f\"{H = }\")"
   ]
  },
  {
   "cell_type": "markdown",
   "id": "afb5eb6f",
   "metadata": {
    "papermill": {
     "duration": 0.00231,
     "end_time": "2024-03-05T17:24:49.386283",
     "exception": false,
     "start_time": "2024-03-05T17:24:49.383973",
     "status": "completed"
    },
    "tags": []
   },
   "source": [
    "Read Dynamics from Network"
   ]
  },
  {
   "cell_type": "code",
   "execution_count": 7,
   "id": "dfc4bbd3",
   "metadata": {
    "execution": {
     "iopub.execute_input": "2024-03-05T17:24:49.391710Z",
     "iopub.status.busy": "2024-03-05T17:24:49.391531Z",
     "iopub.status.idle": "2024-03-05T17:24:49.394073Z",
     "shell.execute_reply": "2024-03-05T17:24:49.393744Z"
    },
    "papermill": {
     "duration": 0.006371,
     "end_time": "2024-03-05T17:24:49.394950",
     "exception": false,
     "start_time": "2024-03-05T17:24:49.388579",
     "status": "completed"
    },
    "tags": []
   },
   "outputs": [
    {
     "name": "stdout",
     "output_type": "stream",
     "text": [
      "HD = <hari_plotter.hari_dynamics.HariDynamics object at 0x7fb53ec65720>\n"
     ]
    }
   ],
   "source": [
    "HD = HariDynamics.read_network(\n",
    "    \"../tests/5_ring/network.txt\",\n",
    "    [f\"../tests/5_ring/opinions_{i}.txt\" for i in range(3)],\n",
    ")\n",
    "print(f\"{HD = }\")"
   ]
  }
 ],
 "metadata": {
  "kernelspec": {
   "display_name": "Python 3",
   "language": "python",
   "name": "python3"
  },
  "language_info": {
   "codemirror_mode": {
    "name": "ipython",
    "version": 3
   },
   "file_extension": ".py",
   "mimetype": "text/x-python",
   "name": "python",
   "nbconvert_exporter": "python",
   "pygments_lexer": "ipython3",
   "version": "3.10.12"
  },
  "papermill": {
   "default_parameters": {},
   "duration": 4.22754,
   "end_time": "2024-03-05T17:24:52.086921",
   "environment_variables": {},
   "exception": null,
   "input_path": "hari_graph.ipynb",
   "output_path": "hari_graph.ipynb",
   "parameters": {},
   "start_time": "2024-03-05T17:24:47.859381",
   "version": "2.5.0"
  }
 },
 "nbformat": 4,
 "nbformat_minor": 5
}