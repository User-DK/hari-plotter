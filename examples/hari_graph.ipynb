{
 "cells": [
  {
   "cell_type": "markdown",
   "id": "fa15b19e",
   "metadata": {
    "papermill": {
     "duration": 0.005697,
     "end_time": "2024-03-06T00:37:52.943953",
     "exception": false,
     "start_time": "2024-03-06T00:37:52.938256",
     "status": "completed"
    },
    "tags": []
   },
   "source": [
    "Import main classes"
   ]
  },
  {
   "cell_type": "code",
   "execution_count": 1,
   "id": "767a684f",
   "metadata": {
    "execution": {
     "iopub.execute_input": "2024-03-06T00:37:52.950624Z",
     "iopub.status.busy": "2024-03-06T00:37:52.950300Z",
     "iopub.status.idle": "2024-03-06T00:37:53.672153Z",
     "shell.execute_reply": "2024-03-06T00:37:53.671468Z"
    },
    "papermill": {
     "duration": 0.72654,
     "end_time": "2024-03-06T00:37:53.673276",
     "exception": false,
     "start_time": "2024-03-06T00:37:52.946736",
     "status": "completed"
    },
    "tags": []
   },
   "outputs": [],
   "source": [
    "from hari_plotter import HariGraph, HariDynamics"
   ]
  },
  {
   "cell_type": "markdown",
   "id": "a4ecbabd",
   "metadata": {
    "papermill": {
     "duration": 0.00101,
     "end_time": "2024-03-06T00:37:53.675585",
     "exception": false,
     "start_time": "2024-03-06T00:37:53.674575",
     "status": "completed"
    },
    "tags": []
   },
   "source": [
    "Create Graph"
   ]
  },
  {
   "cell_type": "code",
   "execution_count": 2,
   "id": "ca8bd938",
   "metadata": {
    "execution": {
     "iopub.execute_input": "2024-03-06T00:37:53.678288Z",
     "iopub.status.busy": "2024-03-06T00:37:53.678086Z",
     "iopub.status.idle": "2024-03-06T00:37:53.682395Z",
     "shell.execute_reply": "2024-03-06T00:37:53.682010Z"
    },
    "papermill": {
     "duration": 0.006703,
     "end_time": "2024-03-06T00:37:53.683250",
     "exception": false,
     "start_time": "2024-03-06T00:37:53.676547",
     "status": "completed"
    },
    "tags": []
   },
   "outputs": [],
   "source": [
    "H = HariGraph.strongly_connected_components([10, 10], 10, 3)"
   ]
  },
  {
   "cell_type": "markdown",
   "id": "9001cd9b",
   "metadata": {
    "papermill": {
     "duration": 0.001731,
     "end_time": "2024-03-06T00:37:53.686782",
     "exception": false,
     "start_time": "2024-03-06T00:37:53.685051",
     "status": "completed"
    },
    "tags": []
   },
   "source": [
    "Get Graph Info"
   ]
  },
  {
   "cell_type": "code",
   "execution_count": 3,
   "id": "78f85a54",
   "metadata": {
    "execution": {
     "iopub.execute_input": "2024-03-06T00:37:53.690944Z",
     "iopub.status.busy": "2024-03-06T00:37:53.690763Z",
     "iopub.status.idle": "2024-03-06T00:37:53.694507Z",
     "shell.execute_reply": "2024-03-06T00:37:53.694159Z"
    },
    "papermill": {
     "duration": 0.006945,
     "end_time": "2024-03-06T00:37:53.695475",
     "exception": false,
     "start_time": "2024-03-06T00:37:53.688530",
     "status": "completed"
    },
    "tags": []
   },
   "outputs": [
    {
     "name": "stdout",
     "output_type": "stream",
     "text": [
      "H = <HariGraph object at 140458154603472: 20 nodes, 190 edges>\n",
      "H.mean_opinion = 2.9747384300488102\n"
     ]
    }
   ],
   "source": [
    "print(f\"{H = }\")\n",
    "print(f\"{H.mean_opinion = }\")"
   ]
  },
  {
   "cell_type": "markdown",
   "id": "e115ba32",
   "metadata": {
    "papermill": {
     "duration": 0.00177,
     "end_time": "2024-03-06T00:37:53.699168",
     "exception": false,
     "start_time": "2024-03-06T00:37:53.697398",
     "status": "completed"
    },
    "tags": []
   },
   "source": [
    "Get the information about parameters available for gathering "
   ]
  },
  {
   "cell_type": "code",
   "execution_count": 4,
   "id": "03bae45d",
   "metadata": {
    "execution": {
     "iopub.execute_input": "2024-03-06T00:37:53.703606Z",
     "iopub.status.busy": "2024-03-06T00:37:53.703456Z",
     "iopub.status.idle": "2024-03-06T00:37:53.707799Z",
     "shell.execute_reply": "2024-03-06T00:37:53.707487Z"
    },
    "papermill": {
     "duration": 0.007693,
     "end_time": "2024-03-06T00:37:53.708768",
     "exception": false,
     "start_time": "2024-03-06T00:37:53.701075",
     "status": "completed"
    },
    "tags": []
   },
   "outputs": [
    {
     "data": {
      "text/plain": [
       "['Opinion',\n",
       " 'Opinion density',\n",
       " 'Cluster size',\n",
       " 'Importance',\n",
       " 'Neighbor mean opinion',\n",
       " 'Inner opinions',\n",
       " 'Max opinion',\n",
       " 'Min opinion',\n",
       " 'Opinion Standard Deviation',\n",
       " 'Label']"
      ]
     },
     "execution_count": 4,
     "metadata": {},
     "output_type": "execute_result"
    }
   ],
   "source": [
    "H.gatherer.node_parameters"
   ]
  },
  {
   "cell_type": "markdown",
   "id": "7c97f9a7",
   "metadata": {
    "papermill": {
     "duration": 0.001878,
     "end_time": "2024-03-06T00:37:53.712586",
     "exception": false,
     "start_time": "2024-03-06T00:37:53.710708",
     "status": "completed"
    },
    "tags": []
   },
   "source": [
    "Get the node parameters"
   ]
  },
  {
   "cell_type": "code",
   "execution_count": 5,
   "id": "218b3737",
   "metadata": {
    "execution": {
     "iopub.execute_input": "2024-03-06T00:37:53.716918Z",
     "iopub.status.busy": "2024-03-06T00:37:53.716745Z",
     "iopub.status.idle": "2024-03-06T00:37:53.720318Z",
     "shell.execute_reply": "2024-03-06T00:37:53.720005Z"
    },
    "papermill": {
     "duration": 0.006781,
     "end_time": "2024-03-06T00:37:53.721242",
     "exception": false,
     "start_time": "2024-03-06T00:37:53.714461",
     "status": "completed"
    },
    "tags": []
   },
   "outputs": [
    {
     "data": {
      "text/plain": [
       "{'Nodes': [(0,),\n",
       "  (1,),\n",
       "  (2,),\n",
       "  (3,),\n",
       "  (4,),\n",
       "  (5,),\n",
       "  (6,),\n",
       "  (7,),\n",
       "  (8,),\n",
       "  (9,),\n",
       "  (10,),\n",
       "  (11,),\n",
       "  (12,),\n",
       "  (13,),\n",
       "  (14,),\n",
       "  (15,),\n",
       "  (16,),\n",
       "  (17,),\n",
       "  (18,),\n",
       "  (19,)],\n",
       " 'Cluster size': [1, 1, 1, 1, 1, 1, 1, 1, 1, 1, 1, 1, 1, 1, 1, 1, 1, 1, 1, 1],\n",
       " 'Opinion': [1.7445984928973062,\n",
       "  1.8268021589405172,\n",
       "  1.9025798560650438,\n",
       "  1.9586180693541229,\n",
       "  1.9780646807653868,\n",
       "  2.007273508670877,\n",
       "  2.05599535441109,\n",
       "  2.1062494808090944,\n",
       "  2.2620334787131826,\n",
       "  2.3180986880119288,\n",
       "  3.867458776610458,\n",
       "  3.8738284668803935,\n",
       "  3.9011374309746096,\n",
       "  3.901527392905175,\n",
       "  3.9064532446846663,\n",
       "  3.91675892574424,\n",
       "  3.94920423544823,\n",
       "  3.967909295139293,\n",
       "  4.000479124993965,\n",
       "  4.049697938956616]}"
      ]
     },
     "execution_count": 5,
     "metadata": {},
     "output_type": "execute_result"
    }
   ],
   "source": [
    "H.gatherer.gather([\"Cluster size\", \"Opinion\"])"
   ]
  },
  {
   "cell_type": "markdown",
   "id": "a12e3a9d",
   "metadata": {
    "papermill": {
     "duration": 0.00195,
     "end_time": "2024-03-06T00:37:53.725733",
     "exception": false,
     "start_time": "2024-03-06T00:37:53.723783",
     "status": "completed"
    },
    "tags": []
   },
   "source": [
    "Read the graph from Network"
   ]
  },
  {
   "cell_type": "code",
   "execution_count": 6,
   "id": "4ae9a3c2",
   "metadata": {
    "execution": {
     "iopub.execute_input": "2024-03-06T00:37:53.730443Z",
     "iopub.status.busy": "2024-03-06T00:37:53.730274Z",
     "iopub.status.idle": "2024-03-06T00:37:53.732937Z",
     "shell.execute_reply": "2024-03-06T00:37:53.732570Z"
    },
    "papermill": {
     "duration": 0.006372,
     "end_time": "2024-03-06T00:37:53.734157",
     "exception": false,
     "start_time": "2024-03-06T00:37:53.727785",
     "status": "completed"
    },
    "tags": []
   },
   "outputs": [
    {
     "name": "stdout",
     "output_type": "stream",
     "text": [
      "H = <HariGraph object at 140458154919584: 5 nodes, 6 edges>\n"
     ]
    }
   ],
   "source": [
    "H = HariGraph.read_network(\"../tests/network.txt\", \"../tests/opinions_0.txt\")\n",
    "print(f\"{H = }\")"
   ]
  },
  {
   "cell_type": "markdown",
   "id": "afb5eb6f",
   "metadata": {
    "papermill": {
     "duration": 0.001988,
     "end_time": "2024-03-06T00:37:53.738189",
     "exception": false,
     "start_time": "2024-03-06T00:37:53.736201",
     "status": "completed"
    },
    "tags": []
   },
   "source": [
    "Read Dynamics from Network"
   ]
  },
  {
   "cell_type": "code",
   "execution_count": 7,
   "id": "dfc4bbd3",
   "metadata": {
    "execution": {
     "iopub.execute_input": "2024-03-06T00:37:53.742857Z",
     "iopub.status.busy": "2024-03-06T00:37:53.742706Z",
     "iopub.status.idle": "2024-03-06T00:37:53.745329Z",
     "shell.execute_reply": "2024-03-06T00:37:53.744950Z"
    },
    "papermill": {
     "duration": 0.006391,
     "end_time": "2024-03-06T00:37:53.746603",
     "exception": false,
     "start_time": "2024-03-06T00:37:53.740212",
     "status": "completed"
    },
    "tags": []
   },
   "outputs": [
    {
     "name": "stdout",
     "output_type": "stream",
     "text": [
      "HD = <hari_plotter.hari_dynamics.HariDynamics object at 0x7fbef66e17e0>\n"
     ]
    }
   ],
   "source": [
    "HD = HariDynamics.read_network(\n",
    "    \"../tests/5_ring/network.txt\",\n",
    "    [f\"../tests/5_ring/opinions_{i}.txt\" for i in range(3)],\n",
    ")\n",
    "print(f\"{HD = }\")"
   ]
  }
 ],
 "metadata": {
  "kernelspec": {
   "display_name": "Python 3",
   "language": "python",
   "name": "python3"
  },
  "language_info": {
   "codemirror_mode": {
    "name": "ipython",
    "version": 3
   },
   "file_extension": ".py",
   "mimetype": "text/x-python",
   "name": "python",
   "nbconvert_exporter": "python",
   "pygments_lexer": "ipython3",
   "version": "3.10.12"
  },
  "papermill": {
   "default_parameters": {},
   "duration": 2.124236,
   "end_time": "2024-03-06T00:37:54.066099",
   "environment_variables": {},
   "exception": null,
   "input_path": "hari_graph.ipynb",
   "output_path": "hari_graph.ipynb",
   "parameters": {},
   "start_time": "2024-03-06T00:37:51.941863",
   "version": "2.5.0"
  }
 },
 "nbformat": 4,
 "nbformat_minor": 5
}