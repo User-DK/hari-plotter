{
 "cells": [
  {
   "cell_type": "markdown",
   "id": "740310c5",
   "metadata": {
    "tags": [
     "papermill-error-cell-tag"
    ]
   },
   "source": [
    "<span style=\"color:red; font-family:Helvetica Neue, Helvetica, Arial, sans-serif; font-size:2em;\">An Exception was encountered at '<a href=\"#papermill-error-cell\">In [1]</a>'.</span>"
   ]
  },
  {
   "cell_type": "markdown",
   "id": "4c51a38c",
   "metadata": {
    "tags": [
     "papermill-error-cell-tag"
    ]
   },
   "source": [
    "<span id=\"papermill-error-cell\" style=\"color:red; font-family:Helvetica Neue, Helvetica, Arial, sans-serif; font-size:2em;\">Execution using papermill encountered an exception here and stopped:</span>"
   ]
  },
  {
   "cell_type": "code",
   "execution_count": 1,
   "id": "3ebab328",
   "metadata": {
    "execution": {
     "iopub.execute_input": "2024-03-06T00:50:50.456500Z",
     "iopub.status.busy": "2024-03-06T00:50:50.456118Z",
     "iopub.status.idle": "2024-03-06T00:50:51.158195Z",
     "shell.execute_reply": "2024-03-06T00:50:51.157651Z"
    },
    "papermill": {
     "duration": 0.710075,
     "end_time": "2024-03-06T00:50:51.158888",
     "exception": true,
     "start_time": "2024-03-06T00:50:50.448813",
     "status": "failed"
    },
    "tags": []
   },
   "outputs": [
    {
     "ename": "SyntaxError",
     "evalue": "unterminated string literal (detected at line 1246) (plot.py, line 1246)",
     "output_type": "error",
     "traceback": [
      "Traceback \u001b[0;36m(most recent call last)\u001b[0m:\n",
      "\u001b[0m  File \u001b[1;32m~/.local/lib/python3.10/site-packages/IPython/core/interactiveshell.py:3526\u001b[0m in \u001b[1;35mrun_code\u001b[0m\n    exec(code_obj, self.user_global_ns, self.user_ns)\u001b[0m\n",
      "\u001b[0m  Cell \u001b[1;32mIn[1], line 1\u001b[0m\n    from hari_plotter import (\u001b[0m\n",
      "\u001b[0;36m  File \u001b[0;32m~/Projects/hari-plotter/hari_plotter/__init__.py:7\u001b[0;36m\n\u001b[0;31m    from .plot import Plot\u001b[0;36m\n",
      "\u001b[0;36m  File \u001b[0;32m~/Projects/hari-plotter/hari_plotter/plot.py:1246\u001b[0;36m\u001b[0m\n\u001b[0;31m    arrowstyle=f'-|>,head_length={\u001b[0m\n\u001b[0m               ^\u001b[0m\n\u001b[0;31mSyntaxError\u001b[0m\u001b[0;31m:\u001b[0m unterminated string literal (detected at line 1246)\n"
     ]
    }
   ],
   "source": [
    "from hari_plotter import (\n",
    "    Simulation,\n",
    "    Interface,\n",
    "    Plotter,\n",
    "    Clustering,\n",
    ")\n",
    "import os"
   ]
  },
  {
   "cell_type": "code",
   "execution_count": null,
   "id": "094da957",
   "metadata": {
    "execution": {
     "iopub.execute_input": "2024-03-06T00:47:57.234187Z",
     "iopub.status.busy": "2024-03-06T00:47:57.233994Z",
     "iopub.status.idle": "2024-03-06T00:47:57.236232Z",
     "shell.execute_reply": "2024-03-06T00:47:57.235888Z"
    },
    "papermill": {
     "duration": null,
     "end_time": null,
     "exception": null,
     "start_time": null,
     "status": "pending"
    },
    "tags": []
   },
   "outputs": [],
   "source": [
    "os.makedirs(\"save_dir\", exist_ok=True)"
   ]
  },
  {
   "cell_type": "code",
   "execution_count": null,
   "id": "cb3ea15b",
   "metadata": {
    "execution": {
     "iopub.execute_input": "2024-03-06T00:47:57.239816Z",
     "iopub.status.busy": "2024-03-06T00:47:57.239702Z",
     "iopub.status.idle": "2024-03-06T00:47:57.243113Z",
     "shell.execute_reply": "2024-03-06T00:47:57.242752Z"
    },
    "papermill": {
     "duration": null,
     "end_time": null,
     "exception": null,
     "start_time": null,
     "status": "pending"
    },
    "tags": []
   },
   "outputs": [],
   "source": [
    "Clustering.available_clustering_methods()"
   ]
  },
  {
   "cell_type": "code",
   "execution_count": null,
   "id": "4354796d",
   "metadata": {
    "execution": {
     "iopub.execute_input": "2024-03-06T00:47:57.246887Z",
     "iopub.status.busy": "2024-03-06T00:47:57.246678Z",
     "iopub.status.idle": "2024-03-06T00:47:57.248460Z",
     "shell.execute_reply": "2024-03-06T00:47:57.248183Z"
    },
    "papermill": {
     "duration": null,
     "end_time": null,
     "exception": null,
     "start_time": null,
     "status": "pending"
    },
    "tags": []
   },
   "outputs": [],
   "source": [
    "cl = {\n",
    "    \"clustering_method\": \"K-Means Clustering\",\n",
    "    \"clustering_parameters\": [\"Opinion\", \"Neighbor mean opinion\"],\n",
    "    \"scale\": [\"Tanh\", \"Tanh\"],\n",
    "    \"n_clusters\": 2,\n",
    "}"
   ]
  },
  {
   "cell_type": "code",
   "execution_count": null,
   "id": "8ca49b84",
   "metadata": {
    "execution": {
     "iopub.execute_input": "2024-03-06T00:47:57.252123Z",
     "iopub.status.busy": "2024-03-06T00:47:57.251914Z",
     "iopub.status.idle": "2024-03-06T00:47:57.254319Z",
     "shell.execute_reply": "2024-03-06T00:47:57.254031Z"
    },
    "papermill": {
     "duration": null,
     "end_time": null,
     "exception": null,
     "start_time": null,
     "status": "pending"
    },
    "tags": []
   },
   "outputs": [],
   "source": [
    "S = Simulation.from_dir(\"big_test\")\n",
    "S.group(num_intervals=3, interval_size=1)"
   ]
  },
  {
   "cell_type": "code",
   "execution_count": null,
   "id": "2317ef13",
   "metadata": {
    "execution": {
     "iopub.execute_input": "2024-03-06T00:47:57.258055Z",
     "iopub.status.busy": "2024-03-06T00:47:57.257933Z",
     "iopub.status.idle": "2024-03-06T00:47:57.260559Z",
     "shell.execute_reply": "2024-03-06T00:47:57.260180Z"
    },
    "papermill": {
     "duration": null,
     "end_time": null,
     "exception": null,
     "start_time": null,
     "status": "pending"
    },
    "tags": []
   },
   "outputs": [],
   "source": [
    "S"
   ]
  },
  {
   "cell_type": "code",
   "execution_count": null,
   "id": "a22616a8",
   "metadata": {
    "execution": {
     "iopub.execute_input": "2024-03-06T00:47:57.264430Z",
     "iopub.status.busy": "2024-03-06T00:47:57.264169Z",
     "iopub.status.idle": "2024-03-06T00:47:57.266309Z",
     "shell.execute_reply": "2024-03-06T00:47:57.265955Z"
    },
    "papermill": {
     "duration": null,
     "end_time": null,
     "exception": null,
     "start_time": null,
     "status": "pending"
    },
    "tags": []
   },
   "outputs": [],
   "source": [
    "interface = Interface.create_interface(S)"
   ]
  },
  {
   "cell_type": "code",
   "execution_count": null,
   "id": "d753730d",
   "metadata": {
    "execution": {
     "iopub.execute_input": "2024-03-06T00:47:57.270064Z",
     "iopub.status.busy": "2024-03-06T00:47:57.269915Z",
     "iopub.status.idle": "2024-03-06T00:47:57.334062Z",
     "shell.execute_reply": "2024-03-06T00:47:57.333632Z"
    },
    "papermill": {
     "duration": null,
     "end_time": null,
     "exception": null,
     "start_time": null,
     "status": "pending"
    },
    "tags": []
   },
   "outputs": [],
   "source": [
    "interface.cluster_tracker.track_clusters(cl)"
   ]
  },
  {
   "cell_type": "code",
   "execution_count": null,
   "id": "d868cae7",
   "metadata": {
    "execution": {
     "iopub.execute_input": "2024-03-06T00:47:57.340062Z",
     "iopub.status.busy": "2024-03-06T00:47:57.339860Z",
     "iopub.status.idle": "2024-03-06T00:47:57.342386Z",
     "shell.execute_reply": "2024-03-06T00:47:57.342002Z"
    },
    "papermill": {
     "duration": null,
     "end_time": null,
     "exception": null,
     "start_time": null,
     "status": "pending"
    },
    "tags": []
   },
   "outputs": [],
   "source": [
    "plotter = Plotter(interface)\n",
    "print(plotter.available_plot_types_hint)"
   ]
  },
  {
   "cell_type": "code",
   "execution_count": null,
   "id": "9c5979ea",
   "metadata": {
    "execution": {
     "iopub.execute_input": "2024-03-06T00:47:57.348327Z",
     "iopub.status.busy": "2024-03-06T00:47:57.348143Z",
     "iopub.status.idle": "2024-03-06T00:47:57.354387Z",
     "shell.execute_reply": "2024-03-06T00:47:57.354074Z"
    },
    "papermill": {
     "duration": null,
     "end_time": null,
     "exception": null,
     "start_time": null,
     "status": "pending"
    },
    "tags": []
   },
   "outputs": [],
   "source": [
    "plotter.add_plot(\n",
    "    \"Static: Time line\",\n",
    "    {\n",
    "        \"parameters\": [\"Time\", \"Opinion\"],\n",
    "    },\n",
    "    row=1,\n",
    "    col=0,\n",
    ")\n",
    "plotter.add_plot(\n",
    "    \"Static: Time line\",\n",
    "    {\n",
    "        \"parameters\": [\"Time\", \"Opinion\"],\n",
    "    },\n",
    "    row=2,\n",
    "    col=1,\n",
    ")\n",
    "\n",
    "plotter.add_plot(\n",
    "    \"Static: Clustering Line\",\n",
    "    {\n",
    "        \"parameter\": \"Opinion\",\n",
    "        \"scale\": [\"Linear\", \"Tanh\"],\n",
    "        \"clustering_settings\": cl,\n",
    "        \"show_legend\": False,\n",
    "        \"color\": {\n",
    "            \"mode\": \"Cluster Parameter Color\",\n",
    "            \"settings\": {\n",
    "                \"clustering_settings\": cl,\n",
    "                \"parameter\": \"Opinion\",\n",
    "                \"group_number\": -1,\n",
    "                \"None Color\": \"\",\n",
    "            },\n",
    "        },\n",
    "    },\n",
    "    row=1,\n",
    "    col=0,\n",
    ")\n",
    "\n",
    "plotter.add_plot(\n",
    "    \"Static: Clustering Range\",\n",
    "    {\n",
    "        \"parameter\": \"Opinion\",\n",
    "        \"range_parameter\": \"Opinion Standard Deviation\",\n",
    "        \"clustering_settings\": cl,\n",
    "        \"scale\": [\"Linear\", \"Tanh\"],\n",
    "        \"color\": {\n",
    "            \"mode\": \"Cluster Parameter Color\",\n",
    "            \"settings\": {\n",
    "                \"clustering_settings\": cl,\n",
    "                \"parameter\": \"Opinion\",\n",
    "                \"group_number\": -1,\n",
    "                \"None Color\": \"\",\n",
    "            },\n",
    "        },\n",
    "    },\n",
    "    row=1,\n",
    "    col=0,\n",
    ")\n",
    "\n",
    "plotter.add_plot(\n",
    "    \"Histogram\",\n",
    "    {\n",
    "        \"parameters\": [\"Opinion\"],\n",
    "        \"show_x_label\": False,\n",
    "        \"scale\": [\"Tanh\", \"Linear\"],\n",
    "    },\n",
    "    row=0,\n",
    "    col=1,\n",
    ")\n",
    "\n",
    "plotter.add_plot(\n",
    "    \"Histogram\",\n",
    "    {\n",
    "        \"parameters\": [\"Neighbor mean opinion\"],\n",
    "        \"rotated\": True,\n",
    "        \"show_y_label\": False,\n",
    "        \"scale\": [\"Linear\", \"Tanh\"],\n",
    "    },\n",
    "    row=1,\n",
    "    col=2,\n",
    ")\n",
    "\n",
    "plotter.add_plot(\n",
    "    \"Clustering: Fill\",\n",
    "    {\n",
    "        \"parameters\": [\"Opinion\", \"Neighbor mean opinion\"],\n",
    "        \"clustering_settings\": cl,\n",
    "        \"scale\": [\"Tanh\", \"Tanh\"],\n",
    "        \"fill_color\": {\n",
    "            \"mode\": \"Cluster Parameter Color\",\n",
    "            \"settings\": {\n",
    "                \"clustering_settings\": cl,\n",
    "                \"parameter\": \"Opinion\"\n",
    "            },\n",
    "        },\n",
    "    },\n",
    "    row=1,\n",
    "    col=1,\n",
    ")\n",
    "\n",
    "plotter.add_plot(\n",
    "    \"Scatter\",\n",
    "    {\n",
    "        \"parameters\": [\"Opinion\", \"Neighbor mean opinion\"],\n",
    "        \"scale\": [\"Tanh\", \"Tanh\"],\n",
    "        \"color\": {\n",
    "            \"mode\": \"Cluster Parameter Color\",\n",
    "            \"settings\": {\n",
    "                \"clustering_settings\": cl,\n",
    "                \"parameter\": \"Opinion\"\n",
    "            },\n",
    "        },\n",
    "        \"marker\": {\n",
    "            \"mode\": \"Cluster Marker\",\n",
    "            \"settings\": {\n",
    "                \"clustering_settings\": cl\n",
    "            }\n",
    "        },\n",
    "    },\n",
    "    row=1,\n",
    "    col=1,\n",
    ")\n",
    "\n",
    "plotter.add_plot(\n",
    "    \"Static: Node lines\",\n",
    "    {\n",
    "        \"parameters\": [\"Time\", \"Opinion\"],\n",
    "        \"scale\": [\"Linear\", \"Tanh\"],\n",
    "        \"color\": {\n",
    "            \"mode\": \"Cluster Parameter Color\",\n",
    "            \"settings\": {\n",
    "                \"clustering_settings\": cl,\n",
    "                \"parameter\": \"Opinion\",\n",
    "                \"group_number\": -1,\n",
    "                \"None Color\": \"\",\n",
    "            },\n",
    "        },\n",
    "    },\n",
    "    row=2,\n",
    "    col=1,\n",
    ")\n",
    "\n",
    "plotter.add_plot(\n",
    "    \"Scatter\",\n",
    "    {\n",
    "        \"parameters\": [\"Opinion\", \"Activity\"],\n",
    "        # \"marker\": \"x\",\n",
    "        \"scale\": [\"Linear\", \"Linear\"],\n",
    "        \"color\": {\n",
    "            \"mode\": \"Parameter Colormap\",\n",
    "            \"settings\": {\n",
    "                \"parameter\": \"Opinion density\",\n",
    "                \"scale\": (\"Linear\", )\n",
    "            },\n",
    "        },\n",
    "    },\n",
    "    row=2,\n",
    "    col=0,\n",
    ")\n",
    "\n",
    "plotter.size_ratios = [\n",
    "    [4, 4, 1],\n",
    "    [\n",
    "        1,\n",
    "        4,\n",
    "        4,\n",
    "    ],\n",
    "]\n",
    "\n",
    "print(\"\\n==========\", plotter.info(), \"\\n==========\")"
   ]
  },
  {
   "cell_type": "code",
   "execution_count": null,
   "id": "b04cd037",
   "metadata": {
    "execution": {
     "iopub.execute_input": "2024-03-06T00:47:57.358946Z",
     "iopub.status.busy": "2024-03-06T00:47:57.358782Z",
     "iopub.status.idle": "2024-03-06T00:47:58.908508Z",
     "shell.execute_reply": "2024-03-06T00:47:58.908085Z"
    },
    "papermill": {
     "duration": null,
     "end_time": null,
     "exception": null,
     "start_time": null,
     "status": "pending"
    },
    "tags": []
   },
   "outputs": [],
   "source": [
    "plotter.plot(1)"
   ]
  },
  {
   "cell_type": "code",
   "execution_count": null,
   "id": "f7398622",
   "metadata": {
    "execution": {
     "iopub.execute_input": "2024-03-06T00:47:58.923435Z",
     "iopub.status.busy": "2024-03-06T00:47:58.923275Z",
     "iopub.status.idle": "2024-03-06T00:48:03.852441Z",
     "shell.execute_reply": "2024-03-06T00:48:03.851710Z"
    },
    "papermill": {
     "duration": null,
     "end_time": null,
     "exception": null,
     "start_time": null,
     "status": "pending"
    },
    "tags": []
   },
   "outputs": [],
   "source": [
    "plotter.plot_dynamics(\n",
    "    mode=[\"show\", \"save\", \"gif\"],\n",
    "    save_dir=\"save_dir\",\n",
    "    gif_path=\"save_dir/gif.gif\",\n",
    ")"
   ]
  },
  {
   "cell_type": "code",
   "execution_count": null,
   "id": "194d87c3",
   "metadata": {
    "papermill": {
     "duration": null,
     "end_time": null,
     "exception": null,
     "start_time": null,
     "status": "pending"
    },
    "tags": []
   },
   "outputs": [],
   "source": []
  }
 ],
 "metadata": {
  "kernelspec": {
   "display_name": "Python 3",
   "language": "python",
   "name": "python3"
  },
  "language_info": {
   "codemirror_mode": {
    "name": "ipython",
    "version": 3
   },
   "file_extension": ".py",
   "mimetype": "text/x-python",
   "name": "python",
   "nbconvert_exporter": "python",
   "pygments_lexer": "ipython3",
   "version": "3.10.12"
  },
  "papermill": {
   "default_parameters": {},
   "duration": 1.766395,
   "end_time": "2024-03-06T00:50:51.477748",
   "environment_variables": {},
   "exception": true,
   "input_path": "plotter.ipynb",
   "output_path": "plotter.ipynb",
   "parameters": {},
   "start_time": "2024-03-06T00:50:49.711353",
   "version": "2.5.0"
  }
 },
 "nbformat": 4,
 "nbformat_minor": 5
}