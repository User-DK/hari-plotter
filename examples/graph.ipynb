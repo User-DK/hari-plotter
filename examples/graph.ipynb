{
 "cells": [
  {
   "cell_type": "markdown",
   "id": "fa15b19e",
   "metadata": {
    "papermill": {
     "duration": 0.001553,
     "end_time": "2024-03-11T12:53:45.582318",
     "exception": false,
     "start_time": "2024-03-11T12:53:45.580765",
     "status": "completed"
    },
    "tags": []
   },
   "source": [
    "Import main classes"
   ]
  },
  {
   "cell_type": "code",
   "execution_count": 1,
   "id": "767a684f",
   "metadata": {
    "execution": {
     "iopub.execute_input": "2024-03-11T12:53:45.587070Z",
     "iopub.status.busy": "2024-03-11T12:53:45.586871Z",
     "iopub.status.idle": "2024-03-11T12:53:46.720142Z",
     "shell.execute_reply": "2024-03-11T12:53:46.719704Z"
    },
    "papermill": {
     "duration": 1.136445,
     "end_time": "2024-03-11T12:53:46.721243",
     "exception": false,
     "start_time": "2024-03-11T12:53:45.584798",
     "status": "completed"
    },
    "tags": []
   },
   "outputs": [],
   "source": [
    "from hari_plotter import Graph, Dynamics"
   ]
  },
  {
   "cell_type": "markdown",
   "id": "a4ecbabd",
   "metadata": {
    "papermill": {
     "duration": 0.001037,
     "end_time": "2024-03-11T12:53:46.723493",
     "exception": false,
     "start_time": "2024-03-11T12:53:46.722456",
     "status": "completed"
    },
    "tags": []
   },
   "source": [
    "Create Graph"
   ]
  },
  {
   "cell_type": "code",
   "execution_count": 2,
   "id": "ca8bd938",
   "metadata": {
    "execution": {
     "iopub.execute_input": "2024-03-11T12:53:46.726178Z",
     "iopub.status.busy": "2024-03-11T12:53:46.725980Z",
     "iopub.status.idle": "2024-03-11T12:53:46.734172Z",
     "shell.execute_reply": "2024-03-11T12:53:46.733769Z"
    },
    "papermill": {
     "duration": 0.010756,
     "end_time": "2024-03-11T12:53:46.735243",
     "exception": false,
     "start_time": "2024-03-11T12:53:46.724487",
     "status": "completed"
    },
    "tags": []
   },
   "outputs": [],
   "source": [
    "H = Graph.strongly_connected_components([10, 10], 10, 3)"
   ]
  },
  {
   "cell_type": "markdown",
   "id": "9001cd9b",
   "metadata": {
    "papermill": {
     "duration": 0.001851,
     "end_time": "2024-03-11T12:53:46.739058",
     "exception": false,
     "start_time": "2024-03-11T12:53:46.737207",
     "status": "completed"
    },
    "tags": []
   },
   "source": [
    "Get Graph Info"
   ]
  },
  {
   "cell_type": "code",
   "execution_count": 3,
   "id": "78f85a54",
   "metadata": {
    "execution": {
     "iopub.execute_input": "2024-03-11T12:53:46.743618Z",
     "iopub.status.busy": "2024-03-11T12:53:46.743388Z",
     "iopub.status.idle": "2024-03-11T12:53:46.745838Z",
     "shell.execute_reply": "2024-03-11T12:53:46.745528Z"
    },
    "papermill": {
     "duration": 0.005858,
     "end_time": "2024-03-11T12:53:46.746800",
     "exception": false,
     "start_time": "2024-03-11T12:53:46.740942",
     "status": "completed"
    },
    "tags": []
   },
   "outputs": [
    {
     "name": "stdout",
     "output_type": "stream",
     "text": [
      "H = <HariGraph object at 133407219808480: 20 nodes, 190 edges>\n",
      "H.mean_opinion = 2.9963759549551376\n"
     ]
    }
   ],
   "source": [
    "print(f\"{H = }\")\n",
    "print(f\"{H.mean_opinion = }\")"
   ]
  },
  {
   "cell_type": "markdown",
   "id": "e115ba32",
   "metadata": {
    "papermill": {
     "duration": 0.001933,
     "end_time": "2024-03-11T12:53:46.750786",
     "exception": false,
     "start_time": "2024-03-11T12:53:46.748853",
     "status": "completed"
    },
    "tags": []
   },
   "source": [
    "Get the information about parameters available for gathering "
   ]
  },
  {
   "cell_type": "code",
   "execution_count": 4,
   "id": "03bae45d",
   "metadata": {
    "execution": {
     "iopub.execute_input": "2024-03-11T12:53:46.755881Z",
     "iopub.status.busy": "2024-03-11T12:53:46.755620Z",
     "iopub.status.idle": "2024-03-11T12:53:46.760061Z",
     "shell.execute_reply": "2024-03-11T12:53:46.759741Z"
    },
    "papermill": {
     "duration": 0.011071,
     "end_time": "2024-03-11T12:53:46.763891",
     "exception": false,
     "start_time": "2024-03-11T12:53:46.752820",
     "status": "completed"
    },
    "tags": []
   },
   "outputs": [
    {
     "data": {
      "text/plain": [
       "['Opinion',\n",
       " 'Opinion density',\n",
       " 'Cluster size',\n",
       " 'Importance',\n",
       " 'Neighbor mean opinion',\n",
       " 'Inner opinions',\n",
       " 'Max opinion',\n",
       " 'Min opinion',\n",
       " 'Opinion Standard Deviation',\n",
       " 'Label',\n",
       " 'Type']"
      ]
     },
     "execution_count": 4,
     "metadata": {},
     "output_type": "execute_result"
    }
   ],
   "source": [
    "H.gatherer.node_parameters"
   ]
  },
  {
   "cell_type": "markdown",
   "id": "7c97f9a7",
   "metadata": {
    "papermill": {
     "duration": 0.00208,
     "end_time": "2024-03-11T12:53:46.768060",
     "exception": false,
     "start_time": "2024-03-11T12:53:46.765980",
     "status": "completed"
    },
    "tags": []
   },
   "source": [
    "Get the node parameters"
   ]
  },
  {
   "cell_type": "code",
   "execution_count": 5,
   "id": "218b3737",
   "metadata": {
    "execution": {
     "iopub.execute_input": "2024-03-11T12:53:46.783544Z",
     "iopub.status.busy": "2024-03-11T12:53:46.783273Z",
     "iopub.status.idle": "2024-03-11T12:53:46.787979Z",
     "shell.execute_reply": "2024-03-11T12:53:46.787363Z"
    },
    "papermill": {
     "duration": 0.018982,
     "end_time": "2024-03-11T12:53:46.789105",
     "exception": false,
     "start_time": "2024-03-11T12:53:46.770123",
     "status": "completed"
    },
    "tags": []
   },
   "outputs": [
    {
     "data": {
      "text/plain": [
       "{'Nodes': [(0,),\n",
       "  (1,),\n",
       "  (2,),\n",
       "  (3,),\n",
       "  (4,),\n",
       "  (5,),\n",
       "  (6,),\n",
       "  (7,),\n",
       "  (8,),\n",
       "  (9,),\n",
       "  (10,),\n",
       "  (11,),\n",
       "  (12,),\n",
       "  (13,),\n",
       "  (14,),\n",
       "  (15,),\n",
       "  (16,),\n",
       "  (17,),\n",
       "  (18,),\n",
       "  (19,)],\n",
       " 'Cluster size': [1, 1, 1, 1, 1, 1, 1, 1, 1, 1, 1, 1, 1, 1, 1, 1, 1, 1, 1, 1],\n",
       " 'Opinion': [1.8492122766628578,\n",
       "  1.944197594573068,\n",
       "  1.9867866996578265,\n",
       "  1.9963880067408732,\n",
       "  2.0033443050553372,\n",
       "  2.008712869886882,\n",
       "  2.0151593897939404,\n",
       "  2.049241799598935,\n",
       "  2.0689318765828206,\n",
       "  2.0930086771714422,\n",
       "  3.834055775247922,\n",
       "  3.8517829577107934,\n",
       "  3.9328707677403343,\n",
       "  3.941220472209248,\n",
       "  3.9788142908895243,\n",
       "  3.9899812488922124,\n",
       "  4.015710896406786,\n",
       "  4.057697974391772,\n",
       "  4.143433072556261,\n",
       "  4.1669681473339155]}"
      ]
     },
     "execution_count": 5,
     "metadata": {},
     "output_type": "execute_result"
    }
   ],
   "source": [
    "H.gatherer.gather([\"Cluster size\", \"Opinion\"])"
   ]
  },
  {
   "cell_type": "markdown",
   "id": "a12e3a9d",
   "metadata": {
    "papermill": {
     "duration": 0.002305,
     "end_time": "2024-03-11T12:53:46.793847",
     "exception": false,
     "start_time": "2024-03-11T12:53:46.791542",
     "status": "completed"
    },
    "tags": []
   },
   "source": [
    "Read the graph from Network"
   ]
  },
  {
   "cell_type": "code",
   "execution_count": 6,
   "id": "4ae9a3c2",
   "metadata": {
    "execution": {
     "iopub.execute_input": "2024-03-11T12:53:46.800242Z",
     "iopub.status.busy": "2024-03-11T12:53:46.799928Z",
     "iopub.status.idle": "2024-03-11T12:53:46.819396Z",
     "shell.execute_reply": "2024-03-11T12:53:46.818669Z"
    },
    "papermill": {
     "duration": 0.024654,
     "end_time": "2024-03-11T12:53:46.820913",
     "exception": false,
     "start_time": "2024-03-11T12:53:46.796259",
     "status": "completed"
    },
    "tags": []
   },
   "outputs": [
    {
     "name": "stdout",
     "output_type": "stream",
     "text": [
      "H = <HariGraph object at 133407220144336: 5 nodes, 6 edges>\n"
     ]
    }
   ],
   "source": [
    "H = Graph.read_network(\"../tests/network.txt\", \"../tests/opinions_0.txt\")\n",
    "print(f\"{H = }\")"
   ]
  },
  {
   "cell_type": "markdown",
   "id": "afb5eb6f",
   "metadata": {
    "papermill": {
     "duration": 0.004763,
     "end_time": "2024-03-11T12:53:46.828698",
     "exception": false,
     "start_time": "2024-03-11T12:53:46.823935",
     "status": "completed"
    },
    "tags": []
   },
   "source": [
    "Read Dynamics from Network"
   ]
  },
  {
   "cell_type": "code",
   "execution_count": 7,
   "id": "dfc4bbd3",
   "metadata": {
    "execution": {
     "iopub.execute_input": "2024-03-11T12:53:46.835189Z",
     "iopub.status.busy": "2024-03-11T12:53:46.834931Z",
     "iopub.status.idle": "2024-03-11T12:53:46.838848Z",
     "shell.execute_reply": "2024-03-11T12:53:46.838147Z"
    },
    "papermill": {
     "duration": 0.009038,
     "end_time": "2024-03-11T12:53:46.840273",
     "exception": false,
     "start_time": "2024-03-11T12:53:46.831235",
     "status": "completed"
    },
    "tags": []
   },
   "outputs": [
    {
     "name": "stdout",
     "output_type": "stream",
     "text": [
      "HD = <hari_plotter.dynamics.Dynamics object at 0x795549f79510>\n"
     ]
    }
   ],
   "source": [
    "HD = Dynamics.read_network(\n",
    "    \"../tests/5_ring/network.txt\",\n",
    "    [f\"../tests/5_ring/opinions_{i}.txt\" for i in range(3)],\n",
    ")\n",
    "print(f\"{HD = }\")"
   ]
  }
 ],
 "metadata": {
  "kernelspec": {
   "display_name": "Python 3",
   "language": "python",
   "name": "python3"
  },
  "language_info": {
   "codemirror_mode": {
    "name": "ipython",
    "version": 3
   },
   "file_extension": ".py",
   "mimetype": "text/x-python",
   "name": "python",
   "nbconvert_exporter": "python",
   "pygments_lexer": "ipython3",
   "version": "3.10.12"
  },
  "papermill": {
   "default_parameters": {},
   "duration": 2.700689,
   "end_time": "2024-03-11T12:53:47.260095",
   "environment_variables": {},
   "exception": null,
   "input_path": "graph.ipynb",
   "output_path": "graph.ipynb",
   "parameters": {},
   "start_time": "2024-03-11T12:53:44.559406",
   "version": "2.5.0"
  }
 },
 "nbformat": 4,
 "nbformat_minor": 5
}